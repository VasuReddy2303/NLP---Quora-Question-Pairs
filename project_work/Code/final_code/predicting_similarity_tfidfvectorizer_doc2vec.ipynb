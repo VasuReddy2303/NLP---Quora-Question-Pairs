{
  "cells": [
    {
      "cell_type": "markdown",
      "metadata": {
        "_cell_guid": "ef6f5b13-18f7-21c0-4bbc-40f3f884b4b5",
        "id": "PAdezgumyJ7X"
      },
      "source": [
        "# Quora Question Pairs - TF-IDF and Doc2Vec (Similarity Based Models)"
      ]
    },
    {
      "cell_type": "markdown",
      "metadata": {
        "_cell_guid": "ccd13167-9f2a-8d3b-99e6-f32447bb3286",
        "id": "7o_OVOPhyJ7b"
      },
      "source": [
        "The objective of this analysis is to use different Natural Language Processing methods to predict if pairs of questions have the same meaning. The data is from Quora and hosted on Kaggle: https://www.kaggle.com/quora/question-pairs-dataset. The sections of this analysis include:\n",
        "- Transforming the text\n",
        "- Method 1: TfidfVectorizer\n",
        "- Method 2: Doc2Vec"
      ]
    },
    {
      "cell_type": "code",
      "source": [
        "# !pip install nltk"
      ],
      "metadata": {
        "id": "GnwLNANxzUeC"
      },
      "execution_count": null,
      "outputs": []
    },
    {
      "cell_type": "code",
      "execution_count": null,
      "metadata": {
        "_cell_guid": "bb195f9c-1578-e37e-4be4-b05d8e3b54ba",
        "colab": {
          "base_uri": "https://localhost:8080/"
        },
        "id": "CaEmkWjfyJ7c",
        "outputId": "379642bf-58f7-499b-9c71-02c60e36ea2e"
      },
      "outputs": [
        {
          "output_type": "stream",
          "name": "stderr",
          "text": [
            "[nltk_data] Downloading package stopwords to /root/nltk_data...\n",
            "[nltk_data]   Package stopwords is already up-to-date!\n"
          ]
        },
        {
          "output_type": "execute_result",
          "data": {
            "text/plain": [
              "True"
            ]
          },
          "metadata": {},
          "execution_count": 52
        }
      ],
      "source": [
        "import pandas as pd\n",
        "import numpy as np\n",
        "import nltk\n",
        "from nltk.corpus import stopwords\n",
        "from nltk.stem import SnowballStemmer\n",
        "import re\n",
        "from gensim import utils\n",
        "# from gensim.models.doc2vec import LabeledSentence\n",
        "from gensim.models.doc2vec import TaggedDocument\n",
        "from gensim.models import Doc2Vec\n",
        "from sklearn.metrics.pairwise import cosine_similarity\n",
        "from sklearn.feature_extraction.text import TfidfVectorizer\n",
        "from sklearn.metrics import accuracy_score\n",
        "from sklearn.metrics import confusion_matrix\n",
        "from sklearn.metrics import classification_report\n",
        "import matplotlib.pyplot as plt\n",
        "from scipy.spatial.distance import cosine\n",
        "import nltk\n",
        "nltk.download('stopwords')"
      ]
    },
    {
      "cell_type": "code",
      "execution_count": null,
      "metadata": {
        "_cell_guid": "bb8285d2-aeb1-8720-3b87-169b1be959a0",
        "colab": {
          "base_uri": "https://localhost:8080/",
          "height": 223
        },
        "id": "bhQQpO52yJ7e",
        "outputId": "19d4dfe5-0fd5-4cc4-be26-50dc7a63157b"
      },
      "outputs": [
        {
          "output_type": "stream",
          "name": "stdout",
          "text": [
            "Drive already mounted at /content/drive; to attempt to forcibly remount, call drive.mount(\"/content/drive\", force_remount=True).\n"
          ]
        },
        {
          "output_type": "execute_result",
          "data": {
            "text/plain": [
              "   id  qid1  qid2                                          question1  \\\n",
              "0   0     1     2  What is the step by step guide to invest in sh...   \n",
              "1   1     3     4  What is the story of Kohinoor (Koh-i-Noor) Dia...   \n",
              "2   2     5     6  How can I increase the speed of my internet co...   \n",
              "3   3     7     8  Why am I mentally very lonely? How can I solve...   \n",
              "4   4     9    10  Which one dissolve in water quikly sugar, salt...   \n",
              "\n",
              "                                           question2  is_duplicate  \n",
              "0  What is the step by step guide to invest in sh...             0  \n",
              "1  What would happen if the Indian government sto...             0  \n",
              "2  How can Internet speed be increased by hacking...             0  \n",
              "3  Find the remainder when [math]23^{24}[/math] i...             0  \n",
              "4            Which fish would survive in salt water?             0  "
            ],
            "text/html": [
              "\n",
              "  <div id=\"df-c378be8a-5135-4316-a6c6-6730e33b5390\" class=\"colab-df-container\">\n",
              "    <div>\n",
              "<style scoped>\n",
              "    .dataframe tbody tr th:only-of-type {\n",
              "        vertical-align: middle;\n",
              "    }\n",
              "\n",
              "    .dataframe tbody tr th {\n",
              "        vertical-align: top;\n",
              "    }\n",
              "\n",
              "    .dataframe thead th {\n",
              "        text-align: right;\n",
              "    }\n",
              "</style>\n",
              "<table border=\"1\" class=\"dataframe\">\n",
              "  <thead>\n",
              "    <tr style=\"text-align: right;\">\n",
              "      <th></th>\n",
              "      <th>id</th>\n",
              "      <th>qid1</th>\n",
              "      <th>qid2</th>\n",
              "      <th>question1</th>\n",
              "      <th>question2</th>\n",
              "      <th>is_duplicate</th>\n",
              "    </tr>\n",
              "  </thead>\n",
              "  <tbody>\n",
              "    <tr>\n",
              "      <th>0</th>\n",
              "      <td>0</td>\n",
              "      <td>1</td>\n",
              "      <td>2</td>\n",
              "      <td>What is the step by step guide to invest in sh...</td>\n",
              "      <td>What is the step by step guide to invest in sh...</td>\n",
              "      <td>0</td>\n",
              "    </tr>\n",
              "    <tr>\n",
              "      <th>1</th>\n",
              "      <td>1</td>\n",
              "      <td>3</td>\n",
              "      <td>4</td>\n",
              "      <td>What is the story of Kohinoor (Koh-i-Noor) Dia...</td>\n",
              "      <td>What would happen if the Indian government sto...</td>\n",
              "      <td>0</td>\n",
              "    </tr>\n",
              "    <tr>\n",
              "      <th>2</th>\n",
              "      <td>2</td>\n",
              "      <td>5</td>\n",
              "      <td>6</td>\n",
              "      <td>How can I increase the speed of my internet co...</td>\n",
              "      <td>How can Internet speed be increased by hacking...</td>\n",
              "      <td>0</td>\n",
              "    </tr>\n",
              "    <tr>\n",
              "      <th>3</th>\n",
              "      <td>3</td>\n",
              "      <td>7</td>\n",
              "      <td>8</td>\n",
              "      <td>Why am I mentally very lonely? How can I solve...</td>\n",
              "      <td>Find the remainder when [math]23^{24}[/math] i...</td>\n",
              "      <td>0</td>\n",
              "    </tr>\n",
              "    <tr>\n",
              "      <th>4</th>\n",
              "      <td>4</td>\n",
              "      <td>9</td>\n",
              "      <td>10</td>\n",
              "      <td>Which one dissolve in water quikly sugar, salt...</td>\n",
              "      <td>Which fish would survive in salt water?</td>\n",
              "      <td>0</td>\n",
              "    </tr>\n",
              "  </tbody>\n",
              "</table>\n",
              "</div>\n",
              "    <div class=\"colab-df-buttons\">\n",
              "\n",
              "  <div class=\"colab-df-container\">\n",
              "    <button class=\"colab-df-convert\" onclick=\"convertToInteractive('df-c378be8a-5135-4316-a6c6-6730e33b5390')\"\n",
              "            title=\"Convert this dataframe to an interactive table.\"\n",
              "            style=\"display:none;\">\n",
              "\n",
              "  <svg xmlns=\"http://www.w3.org/2000/svg\" height=\"24px\" viewBox=\"0 -960 960 960\">\n",
              "    <path d=\"M120-120v-720h720v720H120Zm60-500h600v-160H180v160Zm220 220h160v-160H400v160Zm0 220h160v-160H400v160ZM180-400h160v-160H180v160Zm440 0h160v-160H620v160ZM180-180h160v-160H180v160Zm440 0h160v-160H620v160Z\"/>\n",
              "  </svg>\n",
              "    </button>\n",
              "\n",
              "  <style>\n",
              "    .colab-df-container {\n",
              "      display:flex;\n",
              "      gap: 12px;\n",
              "    }\n",
              "\n",
              "    .colab-df-convert {\n",
              "      background-color: #E8F0FE;\n",
              "      border: none;\n",
              "      border-radius: 50%;\n",
              "      cursor: pointer;\n",
              "      display: none;\n",
              "      fill: #1967D2;\n",
              "      height: 32px;\n",
              "      padding: 0 0 0 0;\n",
              "      width: 32px;\n",
              "    }\n",
              "\n",
              "    .colab-df-convert:hover {\n",
              "      background-color: #E2EBFA;\n",
              "      box-shadow: 0px 1px 2px rgba(60, 64, 67, 0.3), 0px 1px 3px 1px rgba(60, 64, 67, 0.15);\n",
              "      fill: #174EA6;\n",
              "    }\n",
              "\n",
              "    .colab-df-buttons div {\n",
              "      margin-bottom: 4px;\n",
              "    }\n",
              "\n",
              "    [theme=dark] .colab-df-convert {\n",
              "      background-color: #3B4455;\n",
              "      fill: #D2E3FC;\n",
              "    }\n",
              "\n",
              "    [theme=dark] .colab-df-convert:hover {\n",
              "      background-color: #434B5C;\n",
              "      box-shadow: 0px 1px 3px 1px rgba(0, 0, 0, 0.15);\n",
              "      filter: drop-shadow(0px 1px 2px rgba(0, 0, 0, 0.3));\n",
              "      fill: #FFFFFF;\n",
              "    }\n",
              "  </style>\n",
              "\n",
              "    <script>\n",
              "      const buttonEl =\n",
              "        document.querySelector('#df-c378be8a-5135-4316-a6c6-6730e33b5390 button.colab-df-convert');\n",
              "      buttonEl.style.display =\n",
              "        google.colab.kernel.accessAllowed ? 'block' : 'none';\n",
              "\n",
              "      async function convertToInteractive(key) {\n",
              "        const element = document.querySelector('#df-c378be8a-5135-4316-a6c6-6730e33b5390');\n",
              "        const dataTable =\n",
              "          await google.colab.kernel.invokeFunction('convertToInteractive',\n",
              "                                                    [key], {});\n",
              "        if (!dataTable) return;\n",
              "\n",
              "        const docLinkHtml = 'Like what you see? Visit the ' +\n",
              "          '<a target=\"_blank\" href=https://colab.research.google.com/notebooks/data_table.ipynb>data table notebook</a>'\n",
              "          + ' to learn more about interactive tables.';\n",
              "        element.innerHTML = '';\n",
              "        dataTable['output_type'] = 'display_data';\n",
              "        await google.colab.output.renderOutput(dataTable, element);\n",
              "        const docLink = document.createElement('div');\n",
              "        docLink.innerHTML = docLinkHtml;\n",
              "        element.appendChild(docLink);\n",
              "      }\n",
              "    </script>\n",
              "  </div>\n",
              "\n",
              "\n",
              "<div id=\"df-8b897dc2-11a9-4494-9e83-b0c121ef8439\">\n",
              "  <button class=\"colab-df-quickchart\" onclick=\"quickchart('df-8b897dc2-11a9-4494-9e83-b0c121ef8439')\"\n",
              "            title=\"Suggest charts\"\n",
              "            style=\"display:none;\">\n",
              "\n",
              "<svg xmlns=\"http://www.w3.org/2000/svg\" height=\"24px\"viewBox=\"0 0 24 24\"\n",
              "     width=\"24px\">\n",
              "    <g>\n",
              "        <path d=\"M19 3H5c-1.1 0-2 .9-2 2v14c0 1.1.9 2 2 2h14c1.1 0 2-.9 2-2V5c0-1.1-.9-2-2-2zM9 17H7v-7h2v7zm4 0h-2V7h2v10zm4 0h-2v-4h2v4z\"/>\n",
              "    </g>\n",
              "</svg>\n",
              "  </button>\n",
              "\n",
              "<style>\n",
              "  .colab-df-quickchart {\n",
              "      --bg-color: #E8F0FE;\n",
              "      --fill-color: #1967D2;\n",
              "      --hover-bg-color: #E2EBFA;\n",
              "      --hover-fill-color: #174EA6;\n",
              "      --disabled-fill-color: #AAA;\n",
              "      --disabled-bg-color: #DDD;\n",
              "  }\n",
              "\n",
              "  [theme=dark] .colab-df-quickchart {\n",
              "      --bg-color: #3B4455;\n",
              "      --fill-color: #D2E3FC;\n",
              "      --hover-bg-color: #434B5C;\n",
              "      --hover-fill-color: #FFFFFF;\n",
              "      --disabled-bg-color: #3B4455;\n",
              "      --disabled-fill-color: #666;\n",
              "  }\n",
              "\n",
              "  .colab-df-quickchart {\n",
              "    background-color: var(--bg-color);\n",
              "    border: none;\n",
              "    border-radius: 50%;\n",
              "    cursor: pointer;\n",
              "    display: none;\n",
              "    fill: var(--fill-color);\n",
              "    height: 32px;\n",
              "    padding: 0;\n",
              "    width: 32px;\n",
              "  }\n",
              "\n",
              "  .colab-df-quickchart:hover {\n",
              "    background-color: var(--hover-bg-color);\n",
              "    box-shadow: 0 1px 2px rgba(60, 64, 67, 0.3), 0 1px 3px 1px rgba(60, 64, 67, 0.15);\n",
              "    fill: var(--button-hover-fill-color);\n",
              "  }\n",
              "\n",
              "  .colab-df-quickchart-complete:disabled,\n",
              "  .colab-df-quickchart-complete:disabled:hover {\n",
              "    background-color: var(--disabled-bg-color);\n",
              "    fill: var(--disabled-fill-color);\n",
              "    box-shadow: none;\n",
              "  }\n",
              "\n",
              "  .colab-df-spinner {\n",
              "    border: 2px solid var(--fill-color);\n",
              "    border-color: transparent;\n",
              "    border-bottom-color: var(--fill-color);\n",
              "    animation:\n",
              "      spin 1s steps(1) infinite;\n",
              "  }\n",
              "\n",
              "  @keyframes spin {\n",
              "    0% {\n",
              "      border-color: transparent;\n",
              "      border-bottom-color: var(--fill-color);\n",
              "      border-left-color: var(--fill-color);\n",
              "    }\n",
              "    20% {\n",
              "      border-color: transparent;\n",
              "      border-left-color: var(--fill-color);\n",
              "      border-top-color: var(--fill-color);\n",
              "    }\n",
              "    30% {\n",
              "      border-color: transparent;\n",
              "      border-left-color: var(--fill-color);\n",
              "      border-top-color: var(--fill-color);\n",
              "      border-right-color: var(--fill-color);\n",
              "    }\n",
              "    40% {\n",
              "      border-color: transparent;\n",
              "      border-right-color: var(--fill-color);\n",
              "      border-top-color: var(--fill-color);\n",
              "    }\n",
              "    60% {\n",
              "      border-color: transparent;\n",
              "      border-right-color: var(--fill-color);\n",
              "    }\n",
              "    80% {\n",
              "      border-color: transparent;\n",
              "      border-right-color: var(--fill-color);\n",
              "      border-bottom-color: var(--fill-color);\n",
              "    }\n",
              "    90% {\n",
              "      border-color: transparent;\n",
              "      border-bottom-color: var(--fill-color);\n",
              "    }\n",
              "  }\n",
              "</style>\n",
              "\n",
              "  <script>\n",
              "    async function quickchart(key) {\n",
              "      const quickchartButtonEl =\n",
              "        document.querySelector('#' + key + ' button');\n",
              "      quickchartButtonEl.disabled = true;  // To prevent multiple clicks.\n",
              "      quickchartButtonEl.classList.add('colab-df-spinner');\n",
              "      try {\n",
              "        const charts = await google.colab.kernel.invokeFunction(\n",
              "            'suggestCharts', [key], {});\n",
              "      } catch (error) {\n",
              "        console.error('Error during call to suggestCharts:', error);\n",
              "      }\n",
              "      quickchartButtonEl.classList.remove('colab-df-spinner');\n",
              "      quickchartButtonEl.classList.add('colab-df-quickchart-complete');\n",
              "    }\n",
              "    (() => {\n",
              "      let quickchartButtonEl =\n",
              "        document.querySelector('#df-8b897dc2-11a9-4494-9e83-b0c121ef8439 button');\n",
              "      quickchartButtonEl.style.display =\n",
              "        google.colab.kernel.accessAllowed ? 'block' : 'none';\n",
              "    })();\n",
              "  </script>\n",
              "</div>\n",
              "\n",
              "    </div>\n",
              "  </div>\n"
            ],
            "application/vnd.google.colaboratory.intrinsic+json": {
              "type": "dataframe",
              "variable_name": "df"
            }
          },
          "metadata": {},
          "execution_count": 53
        }
      ],
      "source": [
        "from google.colab import drive\n",
        "drive.mount('/content/drive')\n",
        "file_path = '/content/drive/My Drive/questions.csv'\n",
        "df = pd.read_csv(file_path)\n",
        "# df = pd.read_csv(r\"../questions.csv\")\n",
        "df.head()"
      ]
    },
    {
      "cell_type": "code",
      "source": [],
      "metadata": {
        "id": "De8f5QQHyaE0"
      },
      "execution_count": null,
      "outputs": []
    },
    {
      "cell_type": "code",
      "execution_count": null,
      "metadata": {
        "_cell_guid": "db62bd83-cf15-15b1-25ad-b036c2f8882c",
        "id": "rNvhsocZyJ7e"
      },
      "outputs": [],
      "source": [
        "# Use the full dataset on your personal computer.\n",
        "# I'm using a fraction so that it doesn't time out when uploading.\n",
        "df = df[0:400000]"
      ]
    },
    {
      "cell_type": "code",
      "execution_count": null,
      "metadata": {
        "_cell_guid": "def4f929-5770-91e3-e02b-5baf882e8b31",
        "colab": {
          "base_uri": "https://localhost:8080/",
          "height": 363
        },
        "id": "D9y_rtftyJ7f",
        "outputId": "23d52f4d-e2b4-4306-eaf8-6831f25f4367"
      },
      "outputs": [
        {
          "output_type": "execute_result",
          "data": {
            "text/plain": [
              "   id  qid1  qid2                                          question1  \\\n",
              "0   0     1     2  What is the step by step guide to invest in sh...   \n",
              "1   1     3     4  What is the story of Kohinoor (Koh-i-Noor) Dia...   \n",
              "2   2     5     6  How can I increase the speed of my internet co...   \n",
              "3   3     7     8  Why am I mentally very lonely? How can I solve...   \n",
              "4   4     9    10  Which one dissolve in water quikly sugar, salt...   \n",
              "5   5    11    12  Astrology: I am a Capricorn Sun Cap moon and c...   \n",
              "6   6    13    14                                Should I buy tiago?   \n",
              "7   7    15    16                     How can I be a good geologist?   \n",
              "8   8    17    18                    When do you use シ instead of し?   \n",
              "9   9    19    20  Motorola (company): Can I hack my Charter Moto...   \n",
              "\n",
              "                                           question2  is_duplicate  \n",
              "0  What is the step by step guide to invest in sh...             0  \n",
              "1  What would happen if the Indian government sto...             0  \n",
              "2  How can Internet speed be increased by hacking...             0  \n",
              "3  Find the remainder when [math]23^{24}[/math] i...             0  \n",
              "4            Which fish would survive in salt water?             0  \n",
              "5  I'm a triple Capricorn (Sun, Moon and ascendan...             1  \n",
              "6  What keeps childern active and far from phone ...             0  \n",
              "7          What should I do to be a great geologist?             1  \n",
              "8              When do you use \"&\" instead of \"and\"?             0  \n",
              "9  How do I hack Motorola DCX3400 for free internet?             0  "
            ],
            "text/html": [
              "\n",
              "  <div id=\"df-4061798b-bbba-4bc0-992d-33aff5aa9dd4\" class=\"colab-df-container\">\n",
              "    <div>\n",
              "<style scoped>\n",
              "    .dataframe tbody tr th:only-of-type {\n",
              "        vertical-align: middle;\n",
              "    }\n",
              "\n",
              "    .dataframe tbody tr th {\n",
              "        vertical-align: top;\n",
              "    }\n",
              "\n",
              "    .dataframe thead th {\n",
              "        text-align: right;\n",
              "    }\n",
              "</style>\n",
              "<table border=\"1\" class=\"dataframe\">\n",
              "  <thead>\n",
              "    <tr style=\"text-align: right;\">\n",
              "      <th></th>\n",
              "      <th>id</th>\n",
              "      <th>qid1</th>\n",
              "      <th>qid2</th>\n",
              "      <th>question1</th>\n",
              "      <th>question2</th>\n",
              "      <th>is_duplicate</th>\n",
              "    </tr>\n",
              "  </thead>\n",
              "  <tbody>\n",
              "    <tr>\n",
              "      <th>0</th>\n",
              "      <td>0</td>\n",
              "      <td>1</td>\n",
              "      <td>2</td>\n",
              "      <td>What is the step by step guide to invest in sh...</td>\n",
              "      <td>What is the step by step guide to invest in sh...</td>\n",
              "      <td>0</td>\n",
              "    </tr>\n",
              "    <tr>\n",
              "      <th>1</th>\n",
              "      <td>1</td>\n",
              "      <td>3</td>\n",
              "      <td>4</td>\n",
              "      <td>What is the story of Kohinoor (Koh-i-Noor) Dia...</td>\n",
              "      <td>What would happen if the Indian government sto...</td>\n",
              "      <td>0</td>\n",
              "    </tr>\n",
              "    <tr>\n",
              "      <th>2</th>\n",
              "      <td>2</td>\n",
              "      <td>5</td>\n",
              "      <td>6</td>\n",
              "      <td>How can I increase the speed of my internet co...</td>\n",
              "      <td>How can Internet speed be increased by hacking...</td>\n",
              "      <td>0</td>\n",
              "    </tr>\n",
              "    <tr>\n",
              "      <th>3</th>\n",
              "      <td>3</td>\n",
              "      <td>7</td>\n",
              "      <td>8</td>\n",
              "      <td>Why am I mentally very lonely? How can I solve...</td>\n",
              "      <td>Find the remainder when [math]23^{24}[/math] i...</td>\n",
              "      <td>0</td>\n",
              "    </tr>\n",
              "    <tr>\n",
              "      <th>4</th>\n",
              "      <td>4</td>\n",
              "      <td>9</td>\n",
              "      <td>10</td>\n",
              "      <td>Which one dissolve in water quikly sugar, salt...</td>\n",
              "      <td>Which fish would survive in salt water?</td>\n",
              "      <td>0</td>\n",
              "    </tr>\n",
              "    <tr>\n",
              "      <th>5</th>\n",
              "      <td>5</td>\n",
              "      <td>11</td>\n",
              "      <td>12</td>\n",
              "      <td>Astrology: I am a Capricorn Sun Cap moon and c...</td>\n",
              "      <td>I'm a triple Capricorn (Sun, Moon and ascendan...</td>\n",
              "      <td>1</td>\n",
              "    </tr>\n",
              "    <tr>\n",
              "      <th>6</th>\n",
              "      <td>6</td>\n",
              "      <td>13</td>\n",
              "      <td>14</td>\n",
              "      <td>Should I buy tiago?</td>\n",
              "      <td>What keeps childern active and far from phone ...</td>\n",
              "      <td>0</td>\n",
              "    </tr>\n",
              "    <tr>\n",
              "      <th>7</th>\n",
              "      <td>7</td>\n",
              "      <td>15</td>\n",
              "      <td>16</td>\n",
              "      <td>How can I be a good geologist?</td>\n",
              "      <td>What should I do to be a great geologist?</td>\n",
              "      <td>1</td>\n",
              "    </tr>\n",
              "    <tr>\n",
              "      <th>8</th>\n",
              "      <td>8</td>\n",
              "      <td>17</td>\n",
              "      <td>18</td>\n",
              "      <td>When do you use シ instead of し?</td>\n",
              "      <td>When do you use \"&amp;\" instead of \"and\"?</td>\n",
              "      <td>0</td>\n",
              "    </tr>\n",
              "    <tr>\n",
              "      <th>9</th>\n",
              "      <td>9</td>\n",
              "      <td>19</td>\n",
              "      <td>20</td>\n",
              "      <td>Motorola (company): Can I hack my Charter Moto...</td>\n",
              "      <td>How do I hack Motorola DCX3400 for free internet?</td>\n",
              "      <td>0</td>\n",
              "    </tr>\n",
              "  </tbody>\n",
              "</table>\n",
              "</div>\n",
              "    <div class=\"colab-df-buttons\">\n",
              "\n",
              "  <div class=\"colab-df-container\">\n",
              "    <button class=\"colab-df-convert\" onclick=\"convertToInteractive('df-4061798b-bbba-4bc0-992d-33aff5aa9dd4')\"\n",
              "            title=\"Convert this dataframe to an interactive table.\"\n",
              "            style=\"display:none;\">\n",
              "\n",
              "  <svg xmlns=\"http://www.w3.org/2000/svg\" height=\"24px\" viewBox=\"0 -960 960 960\">\n",
              "    <path d=\"M120-120v-720h720v720H120Zm60-500h600v-160H180v160Zm220 220h160v-160H400v160Zm0 220h160v-160H400v160ZM180-400h160v-160H180v160Zm440 0h160v-160H620v160ZM180-180h160v-160H180v160Zm440 0h160v-160H620v160Z\"/>\n",
              "  </svg>\n",
              "    </button>\n",
              "\n",
              "  <style>\n",
              "    .colab-df-container {\n",
              "      display:flex;\n",
              "      gap: 12px;\n",
              "    }\n",
              "\n",
              "    .colab-df-convert {\n",
              "      background-color: #E8F0FE;\n",
              "      border: none;\n",
              "      border-radius: 50%;\n",
              "      cursor: pointer;\n",
              "      display: none;\n",
              "      fill: #1967D2;\n",
              "      height: 32px;\n",
              "      padding: 0 0 0 0;\n",
              "      width: 32px;\n",
              "    }\n",
              "\n",
              "    .colab-df-convert:hover {\n",
              "      background-color: #E2EBFA;\n",
              "      box-shadow: 0px 1px 2px rgba(60, 64, 67, 0.3), 0px 1px 3px 1px rgba(60, 64, 67, 0.15);\n",
              "      fill: #174EA6;\n",
              "    }\n",
              "\n",
              "    .colab-df-buttons div {\n",
              "      margin-bottom: 4px;\n",
              "    }\n",
              "\n",
              "    [theme=dark] .colab-df-convert {\n",
              "      background-color: #3B4455;\n",
              "      fill: #D2E3FC;\n",
              "    }\n",
              "\n",
              "    [theme=dark] .colab-df-convert:hover {\n",
              "      background-color: #434B5C;\n",
              "      box-shadow: 0px 1px 3px 1px rgba(0, 0, 0, 0.15);\n",
              "      filter: drop-shadow(0px 1px 2px rgba(0, 0, 0, 0.3));\n",
              "      fill: #FFFFFF;\n",
              "    }\n",
              "  </style>\n",
              "\n",
              "    <script>\n",
              "      const buttonEl =\n",
              "        document.querySelector('#df-4061798b-bbba-4bc0-992d-33aff5aa9dd4 button.colab-df-convert');\n",
              "      buttonEl.style.display =\n",
              "        google.colab.kernel.accessAllowed ? 'block' : 'none';\n",
              "\n",
              "      async function convertToInteractive(key) {\n",
              "        const element = document.querySelector('#df-4061798b-bbba-4bc0-992d-33aff5aa9dd4');\n",
              "        const dataTable =\n",
              "          await google.colab.kernel.invokeFunction('convertToInteractive',\n",
              "                                                    [key], {});\n",
              "        if (!dataTable) return;\n",
              "\n",
              "        const docLinkHtml = 'Like what you see? Visit the ' +\n",
              "          '<a target=\"_blank\" href=https://colab.research.google.com/notebooks/data_table.ipynb>data table notebook</a>'\n",
              "          + ' to learn more about interactive tables.';\n",
              "        element.innerHTML = '';\n",
              "        dataTable['output_type'] = 'display_data';\n",
              "        await google.colab.output.renderOutput(dataTable, element);\n",
              "        const docLink = document.createElement('div');\n",
              "        docLink.innerHTML = docLinkHtml;\n",
              "        element.appendChild(docLink);\n",
              "      }\n",
              "    </script>\n",
              "  </div>\n",
              "\n",
              "\n",
              "<div id=\"df-ccb9bc21-12f9-4f1a-9911-5e51ece82d51\">\n",
              "  <button class=\"colab-df-quickchart\" onclick=\"quickchart('df-ccb9bc21-12f9-4f1a-9911-5e51ece82d51')\"\n",
              "            title=\"Suggest charts\"\n",
              "            style=\"display:none;\">\n",
              "\n",
              "<svg xmlns=\"http://www.w3.org/2000/svg\" height=\"24px\"viewBox=\"0 0 24 24\"\n",
              "     width=\"24px\">\n",
              "    <g>\n",
              "        <path d=\"M19 3H5c-1.1 0-2 .9-2 2v14c0 1.1.9 2 2 2h14c1.1 0 2-.9 2-2V5c0-1.1-.9-2-2-2zM9 17H7v-7h2v7zm4 0h-2V7h2v10zm4 0h-2v-4h2v4z\"/>\n",
              "    </g>\n",
              "</svg>\n",
              "  </button>\n",
              "\n",
              "<style>\n",
              "  .colab-df-quickchart {\n",
              "      --bg-color: #E8F0FE;\n",
              "      --fill-color: #1967D2;\n",
              "      --hover-bg-color: #E2EBFA;\n",
              "      --hover-fill-color: #174EA6;\n",
              "      --disabled-fill-color: #AAA;\n",
              "      --disabled-bg-color: #DDD;\n",
              "  }\n",
              "\n",
              "  [theme=dark] .colab-df-quickchart {\n",
              "      --bg-color: #3B4455;\n",
              "      --fill-color: #D2E3FC;\n",
              "      --hover-bg-color: #434B5C;\n",
              "      --hover-fill-color: #FFFFFF;\n",
              "      --disabled-bg-color: #3B4455;\n",
              "      --disabled-fill-color: #666;\n",
              "  }\n",
              "\n",
              "  .colab-df-quickchart {\n",
              "    background-color: var(--bg-color);\n",
              "    border: none;\n",
              "    border-radius: 50%;\n",
              "    cursor: pointer;\n",
              "    display: none;\n",
              "    fill: var(--fill-color);\n",
              "    height: 32px;\n",
              "    padding: 0;\n",
              "    width: 32px;\n",
              "  }\n",
              "\n",
              "  .colab-df-quickchart:hover {\n",
              "    background-color: var(--hover-bg-color);\n",
              "    box-shadow: 0 1px 2px rgba(60, 64, 67, 0.3), 0 1px 3px 1px rgba(60, 64, 67, 0.15);\n",
              "    fill: var(--button-hover-fill-color);\n",
              "  }\n",
              "\n",
              "  .colab-df-quickchart-complete:disabled,\n",
              "  .colab-df-quickchart-complete:disabled:hover {\n",
              "    background-color: var(--disabled-bg-color);\n",
              "    fill: var(--disabled-fill-color);\n",
              "    box-shadow: none;\n",
              "  }\n",
              "\n",
              "  .colab-df-spinner {\n",
              "    border: 2px solid var(--fill-color);\n",
              "    border-color: transparent;\n",
              "    border-bottom-color: var(--fill-color);\n",
              "    animation:\n",
              "      spin 1s steps(1) infinite;\n",
              "  }\n",
              "\n",
              "  @keyframes spin {\n",
              "    0% {\n",
              "      border-color: transparent;\n",
              "      border-bottom-color: var(--fill-color);\n",
              "      border-left-color: var(--fill-color);\n",
              "    }\n",
              "    20% {\n",
              "      border-color: transparent;\n",
              "      border-left-color: var(--fill-color);\n",
              "      border-top-color: var(--fill-color);\n",
              "    }\n",
              "    30% {\n",
              "      border-color: transparent;\n",
              "      border-left-color: var(--fill-color);\n",
              "      border-top-color: var(--fill-color);\n",
              "      border-right-color: var(--fill-color);\n",
              "    }\n",
              "    40% {\n",
              "      border-color: transparent;\n",
              "      border-right-color: var(--fill-color);\n",
              "      border-top-color: var(--fill-color);\n",
              "    }\n",
              "    60% {\n",
              "      border-color: transparent;\n",
              "      border-right-color: var(--fill-color);\n",
              "    }\n",
              "    80% {\n",
              "      border-color: transparent;\n",
              "      border-right-color: var(--fill-color);\n",
              "      border-bottom-color: var(--fill-color);\n",
              "    }\n",
              "    90% {\n",
              "      border-color: transparent;\n",
              "      border-bottom-color: var(--fill-color);\n",
              "    }\n",
              "  }\n",
              "</style>\n",
              "\n",
              "  <script>\n",
              "    async function quickchart(key) {\n",
              "      const quickchartButtonEl =\n",
              "        document.querySelector('#' + key + ' button');\n",
              "      quickchartButtonEl.disabled = true;  // To prevent multiple clicks.\n",
              "      quickchartButtonEl.classList.add('colab-df-spinner');\n",
              "      try {\n",
              "        const charts = await google.colab.kernel.invokeFunction(\n",
              "            'suggestCharts', [key], {});\n",
              "      } catch (error) {\n",
              "        console.error('Error during call to suggestCharts:', error);\n",
              "      }\n",
              "      quickchartButtonEl.classList.remove('colab-df-spinner');\n",
              "      quickchartButtonEl.classList.add('colab-df-quickchart-complete');\n",
              "    }\n",
              "    (() => {\n",
              "      let quickchartButtonEl =\n",
              "        document.querySelector('#df-ccb9bc21-12f9-4f1a-9911-5e51ece82d51 button');\n",
              "      quickchartButtonEl.style.display =\n",
              "        google.colab.kernel.accessAllowed ? 'block' : 'none';\n",
              "    })();\n",
              "  </script>\n",
              "</div>\n",
              "\n",
              "    </div>\n",
              "  </div>\n"
            ],
            "application/vnd.google.colaboratory.intrinsic+json": {
              "type": "dataframe",
              "variable_name": "df"
            }
          },
          "metadata": {},
          "execution_count": 55
        }
      ],
      "source": [
        "df.head(10)"
      ]
    },
    {
      "cell_type": "code",
      "execution_count": null,
      "metadata": {
        "_cell_guid": "3182574f-aef6-4ff3-6f73-a0da9ed563ae",
        "colab": {
          "base_uri": "https://localhost:8080/",
          "height": 272
        },
        "id": "996pOZOQyJ7g",
        "outputId": "d8b8d656-928d-46ab-c35f-acbdf6162996"
      },
      "outputs": [
        {
          "output_type": "execute_result",
          "data": {
            "text/plain": [
              "id              0\n",
              "qid1            0\n",
              "qid2            0\n",
              "question1       1\n",
              "question2       2\n",
              "is_duplicate    0\n",
              "dtype: int64"
            ],
            "text/html": [
              "<div>\n",
              "<style scoped>\n",
              "    .dataframe tbody tr th:only-of-type {\n",
              "        vertical-align: middle;\n",
              "    }\n",
              "\n",
              "    .dataframe tbody tr th {\n",
              "        vertical-align: top;\n",
              "    }\n",
              "\n",
              "    .dataframe thead th {\n",
              "        text-align: right;\n",
              "    }\n",
              "</style>\n",
              "<table border=\"1\" class=\"dataframe\">\n",
              "  <thead>\n",
              "    <tr style=\"text-align: right;\">\n",
              "      <th></th>\n",
              "      <th>0</th>\n",
              "    </tr>\n",
              "  </thead>\n",
              "  <tbody>\n",
              "    <tr>\n",
              "      <th>id</th>\n",
              "      <td>0</td>\n",
              "    </tr>\n",
              "    <tr>\n",
              "      <th>qid1</th>\n",
              "      <td>0</td>\n",
              "    </tr>\n",
              "    <tr>\n",
              "      <th>qid2</th>\n",
              "      <td>0</td>\n",
              "    </tr>\n",
              "    <tr>\n",
              "      <th>question1</th>\n",
              "      <td>1</td>\n",
              "    </tr>\n",
              "    <tr>\n",
              "      <th>question2</th>\n",
              "      <td>2</td>\n",
              "    </tr>\n",
              "    <tr>\n",
              "      <th>is_duplicate</th>\n",
              "      <td>0</td>\n",
              "    </tr>\n",
              "  </tbody>\n",
              "</table>\n",
              "</div><br><label><b>dtype:</b> int64</label>"
            ]
          },
          "metadata": {},
          "execution_count": 56
        }
      ],
      "source": [
        "df.isnull().sum()"
      ]
    },
    {
      "cell_type": "code",
      "execution_count": null,
      "metadata": {
        "_cell_guid": "35c44a8f-30b8-885f-3421-7ed91103c006",
        "colab": {
          "base_uri": "https://localhost:8080/",
          "height": 178
        },
        "id": "gRxrWLlnyJ7g",
        "outputId": "0f9e4c6e-fce2-472d-f7ce-6815208e2d13"
      },
      "outputs": [
        {
          "output_type": "execute_result",
          "data": {
            "text/plain": [
              "is_duplicate\n",
              "0    252209\n",
              "1    147791\n",
              "Name: count, dtype: int64"
            ],
            "text/html": [
              "<div>\n",
              "<style scoped>\n",
              "    .dataframe tbody tr th:only-of-type {\n",
              "        vertical-align: middle;\n",
              "    }\n",
              "\n",
              "    .dataframe tbody tr th {\n",
              "        vertical-align: top;\n",
              "    }\n",
              "\n",
              "    .dataframe thead th {\n",
              "        text-align: right;\n",
              "    }\n",
              "</style>\n",
              "<table border=\"1\" class=\"dataframe\">\n",
              "  <thead>\n",
              "    <tr style=\"text-align: right;\">\n",
              "      <th></th>\n",
              "      <th>count</th>\n",
              "    </tr>\n",
              "    <tr>\n",
              "      <th>is_duplicate</th>\n",
              "      <th></th>\n",
              "    </tr>\n",
              "  </thead>\n",
              "  <tbody>\n",
              "    <tr>\n",
              "      <th>0</th>\n",
              "      <td>252209</td>\n",
              "    </tr>\n",
              "    <tr>\n",
              "      <th>1</th>\n",
              "      <td>147791</td>\n",
              "    </tr>\n",
              "  </tbody>\n",
              "</table>\n",
              "</div><br><label><b>dtype:</b> int64</label>"
            ]
          },
          "metadata": {},
          "execution_count": 57
        }
      ],
      "source": [
        "df.is_duplicate.value_counts()"
      ]
    },
    {
      "cell_type": "code",
      "execution_count": null,
      "metadata": {
        "_cell_guid": "0c16a6f4-0a3c-c8b4-253f-26d415999b2a",
        "colab": {
          "base_uri": "https://localhost:8080/"
        },
        "id": "Dhp1hazAyJ7h",
        "outputId": "9603034b-cf5d-450d-c34b-b8cfa0b59a5e"
      },
      "outputs": [
        {
          "output_type": "execute_result",
          "data": {
            "text/plain": [
              "0.0627725"
            ]
          },
          "metadata": {},
          "execution_count": 58
        }
      ],
      "source": [
        "25109/len(df)"
      ]
    },
    {
      "cell_type": "code",
      "execution_count": null,
      "metadata": {
        "_cell_guid": "d7ca166a-72d8-df36-d72e-271e9cf657c2",
        "colab": {
          "base_uri": "https://localhost:8080/"
        },
        "id": "VYyIKDSTyJ7h",
        "outputId": "f565cd52-564a-441b-e55a-51f2f841f19c"
      },
      "outputs": [
        {
          "output_type": "stream",
          "name": "stdout",
          "text": [
            "Not duplicate:\n",
            "What is the step by step guide to invest in share market in india?\n",
            "What is the step by step guide to invest in share market?\n",
            "\n",
            "Not duplicate:\n",
            "What is the story of Kohinoor (Koh-i-Noor) Diamond?\n",
            "What would happen if the Indian government stole the Kohinoor (Koh-i-Noor) diamond back?\n",
            "\n",
            "Is duplicate:\n",
            "Astrology: I am a Capricorn Sun Cap moon and cap rising...what does that say about me?\n",
            "I'm a triple Capricorn (Sun, Moon and ascendant in Capricorn) What does this say about me?\n"
          ]
        }
      ],
      "source": [
        "# Take a look at some of the question pairs.\n",
        "print(\"Not duplicate:\")\n",
        "print(df.question1[0])\n",
        "print(df.question2[0])\n",
        "print()\n",
        "print(\"Not duplicate:\")\n",
        "print(df.question1[1])\n",
        "print(df.question2[1])\n",
        "print()\n",
        "print(\"Is duplicate:\")\n",
        "print(df.question1[5])\n",
        "print(df.question2[5])"
      ]
    },
    {
      "cell_type": "code",
      "execution_count": null,
      "metadata": {
        "_cell_guid": "6f1d3ec5-c78a-6675-fda3-6ada4339ada9",
        "id": "a1HKoVBZyJ7i"
      },
      "outputs": [],
      "source": [
        "# def review_to_wordlist(review, remove_stopwords=True):\n",
        "#     # Clean the text, with the option to remove stopwords.\n",
        "\n",
        "#     # Convert words to lower case and split them\n",
        "#     if len(review) == 0 or review == None or review == 'nan':\n",
        "#       review = ''\n",
        "#     words = review.lower().split()\n",
        "\n",
        "#     # Optionally remove stop words (true by default)\n",
        "#     if remove_stopwords:\n",
        "#         stops = set(stopwords.words(\"english\"))\n",
        "#         words = [w for w in words if not w in stops]\n",
        "\n",
        "#     review_text = \" \".join(words)\n",
        "\n",
        "#     # Clean the text\n",
        "#     review_text = re.sub(r\"[^A-Za-z0-9(),!.?\\'\\`]\", \" \", review_text)\n",
        "#     review_text = re.sub(r\"\\'s\", \" 's \", review_text)\n",
        "#     review_text = re.sub(r\"\\'ve\", \" 've \", review_text)\n",
        "#     review_text = re.sub(r\"n\\'t\", \" 't \", review_text)\n",
        "#     review_text = re.sub(r\"\\'re\", \" 're \", review_text)\n",
        "#     review_text = re.sub(r\"\\'d\", \" 'd \", review_text)\n",
        "#     review_text = re.sub(r\"\\'ll\", \" 'll \", review_text)\n",
        "#     review_text = re.sub(r\",\", \" \", review_text)\n",
        "#     review_text = re.sub(r\"\\.\", \" \", review_text)\n",
        "#     review_text = re.sub(r\"!\", \" \", review_text)\n",
        "#     review_text = re.sub(r\"\\(\", \" ( \", review_text)\n",
        "#     review_text = re.sub(r\"\\)\", \" ) \", review_text)\n",
        "#     review_text = re.sub(r\"\\?\", \" \", review_text)\n",
        "#     review_text = re.sub(r\"\\s{2,}\", \" \", review_text)\n",
        "\n",
        "#     words = review_text.split()\n",
        "\n",
        "#     # Shorten words to their stems\n",
        "#     stemmer = SnowballStemmer('english')\n",
        "#     stemmed_words = [stemmer.stem(word) for word in words]\n",
        "\n",
        "#     review_text = \" \".join(stemmed_words)\n",
        "\n",
        "#     # Return a list of words\n",
        "#     return(review_text)"
      ]
    },
    {
      "cell_type": "code",
      "source": [
        "import re\n",
        "from nltk.corpus import stopwords\n",
        "from nltk.stem import SnowballStemmer\n",
        "import pandas as pd\n",
        "\n",
        "def review_to_wordlist(review, remove_stopwords=True):\n",
        "    # Check for invalid or empty reviews (handles NaN and None)\n",
        "    if not review or pd.isna(review) or review == 'nan':\n",
        "        return ''  # Return an empty string if review is invalid or empty\n",
        "\n",
        "    # Convert words to lower case and split them\n",
        "    words = review.lower().split()\n",
        "\n",
        "    # Optionally remove stop words (true by default)\n",
        "    if remove_stopwords:\n",
        "        stops = set(stopwords.words(\"english\"))\n",
        "        words = [w for w in words if w not in stops]\n",
        "\n",
        "    # Clean the text using regular expressions\n",
        "    review_text = \" \".join(words)\n",
        "    review_text = re.sub(r\"[^A-Za-z0-9(),!.?\\'\\`]\", \" \", review_text)  # Remove unwanted characters\n",
        "    review_text = re.sub(r\"\\'s\", \" 's \", review_text)  # Handle possessives\n",
        "    review_text = re.sub(r\"\\'ve\", \" 've \", review_text)\n",
        "    review_text = re.sub(r\"n\\'t\", \" 't \", review_text)\n",
        "    review_text = re.sub(r\"\\'re\", \" 're \", review_text)\n",
        "    review_text = re.sub(r\"\\'d\", \" 'd \", review_text)\n",
        "    review_text = re.sub(r\"\\'ll\", \" 'll \", review_text)\n",
        "    review_text = re.sub(r\"[.,!?()]\", \" \", review_text)  # Remove punctuation (simplified)\n",
        "    review_text = re.sub(r\"\\s{2,}\", \" \", review_text)  # Replace multiple spaces with a single space\n",
        "\n",
        "    # Tokenize the cleaned text\n",
        "    words = review_text.split()\n",
        "\n",
        "    # Shorten words to their stems\n",
        "    stemmer = SnowballStemmer('english')\n",
        "    stemmed_words = [stemmer.stem(word) for word in words]\n",
        "\n",
        "    # Join the stemmed words back into a string\n",
        "    review_text = \" \".join(stemmed_words)\n",
        "\n",
        "    return review_text\n"
      ],
      "metadata": {
        "id": "Uw_MfOsK7uC0"
      },
      "execution_count": null,
      "outputs": []
    },
    {
      "cell_type": "code",
      "execution_count": null,
      "metadata": {
        "_cell_guid": "f8ef3145-5c43-781c-4097-bdb3a19158ad",
        "id": "qhM91P_AyJ7j"
      },
      "outputs": [],
      "source": [
        "def process_questions(question_list, questions, question_list_name):\n",
        "# function to transform questions and display progress\n",
        "    for question in questions:\n",
        "        question_list.append(review_to_wordlist(question))\n",
        "        if len(question_list) % 10000 == 0:\n",
        "            progress = len(question_list)/len(df) * 100\n",
        "            print(\"{} is {}% complete.\".format(question_list_name, round(progress, 1)))"
      ]
    },
    {
      "cell_type": "code",
      "source": [
        "# !pip install nltk\n",
        "# import nltk\n",
        "# nltk.download('stopwords')"
      ],
      "metadata": {
        "id": "37qJF_rNzKIe"
      },
      "execution_count": null,
      "outputs": []
    },
    {
      "cell_type": "code",
      "execution_count": null,
      "metadata": {
        "_cell_guid": "24775bc7-a4b2-facd-e401-499575816c0a",
        "colab": {
          "base_uri": "https://localhost:8080/"
        },
        "id": "wUhC_9XryJ7j",
        "outputId": "82973261-2569-4bf9-d3be-e116ccc40b01"
      },
      "outputs": [
        {
          "output_type": "stream",
          "name": "stdout",
          "text": [
            "questions1 is 2.5% complete.\n",
            "questions1 is 5.0% complete.\n",
            "questions1 is 7.5% complete.\n",
            "questions1 is 10.0% complete.\n",
            "questions1 is 12.5% complete.\n",
            "questions1 is 15.0% complete.\n",
            "questions1 is 17.5% complete.\n",
            "questions1 is 20.0% complete.\n",
            "questions1 is 22.5% complete.\n",
            "questions1 is 25.0% complete.\n",
            "questions1 is 27.5% complete.\n",
            "questions1 is 30.0% complete.\n",
            "questions1 is 32.5% complete.\n",
            "questions1 is 35.0% complete.\n",
            "questions1 is 37.5% complete.\n",
            "questions1 is 40.0% complete.\n",
            "questions1 is 42.5% complete.\n",
            "questions1 is 45.0% complete.\n",
            "questions1 is 47.5% complete.\n",
            "questions1 is 50.0% complete.\n",
            "questions1 is 52.5% complete.\n",
            "questions1 is 55.0% complete.\n",
            "questions1 is 57.5% complete.\n",
            "questions1 is 60.0% complete.\n",
            "questions1 is 62.5% complete.\n",
            "questions1 is 65.0% complete.\n",
            "questions1 is 67.5% complete.\n",
            "questions1 is 70.0% complete.\n",
            "questions1 is 72.5% complete.\n",
            "questions1 is 75.0% complete.\n",
            "questions1 is 77.5% complete.\n",
            "questions1 is 80.0% complete.\n",
            "questions1 is 82.5% complete.\n",
            "questions1 is 85.0% complete.\n",
            "questions1 is 87.5% complete.\n",
            "questions1 is 90.0% complete.\n",
            "questions1 is 92.5% complete.\n",
            "questions1 is 95.0% complete.\n",
            "questions1 is 97.5% complete.\n",
            "questions1 is 100.0% complete.\n",
            "\n",
            "questions2 is 2.5% complete.\n",
            "questions2 is 5.0% complete.\n",
            "questions2 is 7.5% complete.\n",
            "questions2 is 10.0% complete.\n",
            "questions2 is 12.5% complete.\n",
            "questions2 is 15.0% complete.\n",
            "questions2 is 17.5% complete.\n",
            "questions2 is 20.0% complete.\n",
            "questions2 is 22.5% complete.\n",
            "questions2 is 25.0% complete.\n",
            "questions2 is 27.5% complete.\n",
            "questions2 is 30.0% complete.\n",
            "questions2 is 32.5% complete.\n",
            "questions2 is 35.0% complete.\n",
            "questions2 is 37.5% complete.\n",
            "questions2 is 40.0% complete.\n",
            "questions2 is 42.5% complete.\n",
            "questions2 is 45.0% complete.\n",
            "questions2 is 47.5% complete.\n",
            "questions2 is 50.0% complete.\n",
            "questions2 is 52.5% complete.\n",
            "questions2 is 55.0% complete.\n",
            "questions2 is 57.5% complete.\n",
            "questions2 is 60.0% complete.\n",
            "questions2 is 62.5% complete.\n",
            "questions2 is 65.0% complete.\n",
            "questions2 is 67.5% complete.\n",
            "questions2 is 70.0% complete.\n",
            "questions2 is 72.5% complete.\n",
            "questions2 is 75.0% complete.\n",
            "questions2 is 77.5% complete.\n",
            "questions2 is 80.0% complete.\n",
            "questions2 is 82.5% complete.\n",
            "questions2 is 85.0% complete.\n",
            "questions2 is 87.5% complete.\n",
            "questions2 is 90.0% complete.\n",
            "questions2 is 92.5% complete.\n",
            "questions2 is 95.0% complete.\n",
            "questions2 is 97.5% complete.\n",
            "questions2 is 100.0% complete.\n"
          ]
        }
      ],
      "source": [
        "questions1 = []\n",
        "process_questions(questions1, df.question1, \"questions1\")\n",
        "print()\n",
        "questions2 = []\n",
        "process_questions(questions2, df.question2, \"questions2\")"
      ]
    },
    {
      "cell_type": "code",
      "execution_count": null,
      "metadata": {
        "_cell_guid": "452c2930-1da6-47e0-8962-28f87071eebe",
        "colab": {
          "base_uri": "https://localhost:8080/"
        },
        "id": "jjsfEkjOyJ7j",
        "outputId": "019661f2-0bc7-41f7-a9f3-1ea09b5f17c0"
      },
      "outputs": [
        {
          "output_type": "stream",
          "name": "stdout",
          "text": [
            "step step guid invest share market india\n",
            "step step guid invest share market\n",
            "\n",
            "stori kohinoor koh i noor diamond\n",
            "would happen indian govern stole kohinoor koh i noor diamond back\n",
            "\n",
            "increas speed internet connect use vpn\n",
            "internet speed increas hack dns\n",
            "\n",
            "mental lone solv it\n",
            "find remaind math 23 24 math divid 24 23\n",
            "\n",
            "one dissolv water quik sugar salt methan carbon di oxid\n",
            "fish would surviv salt water\n",
            "\n"
          ]
        }
      ],
      "source": [
        "# Take a look at some of the processed questions.\n",
        "for i in range(5):\n",
        "    print(questions1[i])\n",
        "    print(questions2[i])\n",
        "    print()"
      ]
    },
    {
      "cell_type": "code",
      "execution_count": null,
      "metadata": {
        "_cell_guid": "d816fea4-fe50-509d-3d50-0f56cde1c812",
        "colab": {
          "base_uri": "https://localhost:8080/"
        },
        "id": "a7-b1ug4yJ7j",
        "outputId": "35c0b32e-266a-4c72-bc8d-d62a5dd9d6be"
      },
      "outputs": [
        {
          "output_type": "stream",
          "name": "stdout",
          "text": [
            "348\n"
          ]
        }
      ],
      "source": [
        "# Stores the indices of unusable questions\n",
        "invalid_questions = []\n",
        "for i in range(len(questions1)):\n",
        "    # questions need to contain a vowel (which should be part of a full word) to be valid\n",
        "    if not re.search('[aeiouyAEIOUY]', questions1[i]) or not re.search('[aeiouyAEIOUY]', questions2[i]):\n",
        "    # Need to subtract 'len(invalid_questions)' to adjust for the changing index values as questions are removed.\n",
        "        invalid_questions.append(i-len(invalid_questions))\n",
        "print(len(invalid_questions))"
      ]
    },
    {
      "cell_type": "code",
      "execution_count": null,
      "metadata": {
        "_cell_guid": "773c4ac9-f657-61d3-b9e0-301fe047fffc",
        "colab": {
          "base_uri": "https://localhost:8080/"
        },
        "id": "aiQ613T-yJ7k",
        "outputId": "8947e0ce-833d-4383-8266-9f0d963e7b1e"
      },
      "outputs": [
        {
          "output_type": "execute_result",
          "data": {
            "text/plain": [
              "[812,\n",
              " 1509,\n",
              " 3303,\n",
              " 3397,\n",
              " 3658,\n",
              " 3757,\n",
              " 6870,\n",
              " 7361,\n",
              " 7812,\n",
              " 9737,\n",
              " 10098,\n",
              " 10573,\n",
              " 10602,\n",
              " 11427,\n",
              " 12799,\n",
              " 13001,\n",
              " 13781,\n",
              " 15223,\n",
              " 15478,\n",
              " 17469,\n",
              " 17495,\n",
              " 18122,\n",
              " 18521,\n",
              " 19854,\n",
              " 20051,\n",
              " 20390,\n",
              " 20494,\n",
              " 20770,\n",
              " 22213,\n",
              " 23859,\n",
              " 26770,\n",
              " 28241,\n",
              " 28949,\n",
              " 31212,\n",
              " 31725,\n",
              " 31791,\n",
              " 32671,\n",
              " 32839,\n",
              " 33188,\n",
              " 33775,\n",
              " 34722,\n",
              " 35607,\n",
              " 36274,\n",
              " 36731,\n",
              " 37155,\n",
              " 38442,\n",
              " 40595,\n",
              " 43497,\n",
              " 44957,\n",
              " 47015,\n",
              " 51934,\n",
              " 52839,\n",
              " 53701,\n",
              " 53707,\n",
              " 53912,\n",
              " 54070,\n",
              " 55462,\n",
              " 55768,\n",
              " 57688,\n",
              " 60135,\n",
              " 65317,\n",
              " 67887,\n",
              " 67900,\n",
              " 71325,\n",
              " 75836,\n",
              " 76072,\n",
              " 78528,\n",
              " 81505,\n",
              " 82677,\n",
              " 88188,\n",
              " 88360,\n",
              " 89705,\n",
              " 90435,\n",
              " 91531,\n",
              " 93031,\n",
              " 96666,\n",
              " 99294,\n",
              " 99882,\n",
              " 103978,\n",
              " 104038,\n",
              " 104899,\n",
              " 105290,\n",
              " 105714,\n",
              " 106280,\n",
              " 106698,\n",
              " 107443,\n",
              " 108189,\n",
              " 108907,\n",
              " 108937,\n",
              " 109071,\n",
              " 109237,\n",
              " 113530,\n",
              " 115271,\n",
              " 121565,\n",
              " 122540,\n",
              " 124744,\n",
              " 124969,\n",
              " 127210,\n",
              " 127299,\n",
              " 128200,\n",
              " 129787,\n",
              " 130254,\n",
              " 130670,\n",
              " 133045,\n",
              " 134318,\n",
              " 135135,\n",
              " 136315,\n",
              " 136964,\n",
              " 138537,\n",
              " 138849,\n",
              " 138898,\n",
              " 139224,\n",
              " 141624,\n",
              " 143804,\n",
              " 144250,\n",
              " 144796,\n",
              " 146830,\n",
              " 147187,\n",
              " 148255,\n",
              " 150125,\n",
              " 150563,\n",
              " 150964,\n",
              " 151821,\n",
              " 153609,\n",
              " 156168,\n",
              " 156409,\n",
              " 157583,\n",
              " 158673,\n",
              " 159283,\n",
              " 159801,\n",
              " 161041,\n",
              " 163631,\n",
              " 165190,\n",
              " 165486,\n",
              " 165771,\n",
              " 166001,\n",
              " 168043,\n",
              " 168423,\n",
              " 169176,\n",
              " 169257,\n",
              " 170537,\n",
              " 172255,\n",
              " 174087,\n",
              " 174190,\n",
              " 174592,\n",
              " 174742,\n",
              " 174841,\n",
              " 175162,\n",
              " 176846,\n",
              " 178181,\n",
              " 179020,\n",
              " 181572,\n",
              " 182491,\n",
              " 184196,\n",
              " 184233,\n",
              " 184342,\n",
              " 185278,\n",
              " 185949,\n",
              " 186448,\n",
              " 187390,\n",
              " 189266,\n",
              " 189274,\n",
              " 189447,\n",
              " 189526,\n",
              " 190213,\n",
              " 190435,\n",
              " 191838,\n",
              " 193538,\n",
              " 196425,\n",
              " 196841,\n",
              " 197736,\n",
              " 197847,\n",
              " 198771,\n",
              " 198967,\n",
              " 200267,\n",
              " 200426,\n",
              " 201695,\n",
              " 202688,\n",
              " 202805,\n",
              " 203056,\n",
              " 204747,\n",
              " 205390,\n",
              " 206685,\n",
              " 207654,\n",
              " 208333,\n",
              " 209234,\n",
              " 210119,\n",
              " 211614,\n",
              " 211682,\n",
              " 211949,\n",
              " 212417,\n",
              " 213062,\n",
              " 216718,\n",
              " 217298,\n",
              " 218380,\n",
              " 219146,\n",
              " 219775,\n",
              " 222471,\n",
              " 222568,\n",
              " 222831,\n",
              " 223210,\n",
              " 224352,\n",
              " 224757,\n",
              " 225983,\n",
              " 226757,\n",
              " 230575,\n",
              " 230614,\n",
              " 231123,\n",
              " 231896,\n",
              " 232081,\n",
              " 232977,\n",
              " 233685,\n",
              " 234227,\n",
              " 236541,\n",
              " 237216,\n",
              " 237421,\n",
              " 239435,\n",
              " 239455,\n",
              " 240944,\n",
              " 245699,\n",
              " 245944,\n",
              " 246796,\n",
              " 251139,\n",
              " 252952,\n",
              " 253693,\n",
              " 253974,\n",
              " 254447,\n",
              " 254923,\n",
              " 255420,\n",
              " 255774,\n",
              " 256538,\n",
              " 257920,\n",
              " 257926,\n",
              " 257937,\n",
              " 258219,\n",
              " 258227,\n",
              " 259438,\n",
              " 259908,\n",
              " 259958,\n",
              " 260568,\n",
              " 264666,\n",
              " 265571,\n",
              " 268423,\n",
              " 271139,\n",
              " 271679,\n",
              " 272858,\n",
              " 272886,\n",
              " 273994,\n",
              " 276278,\n",
              " 279069,\n",
              " 279146,\n",
              " 280753,\n",
              " 281150,\n",
              " 281201,\n",
              " 286325,\n",
              " 289094,\n",
              " 289519,\n",
              " 289875,\n",
              " 290981,\n",
              " 292061,\n",
              " 293066,\n",
              " 294250,\n",
              " 295374,\n",
              " 295869,\n",
              " 298567,\n",
              " 298727,\n",
              " 300552,\n",
              " 301360,\n",
              " 301900,\n",
              " 302404,\n",
              " 303027,\n",
              " 303512,\n",
              " 304886,\n",
              " 305863,\n",
              " 306746,\n",
              " 307736,\n",
              " 308022,\n",
              " 308066,\n",
              " 310799,\n",
              " 310813,\n",
              " 312883,\n",
              " 313229,\n",
              " 313601,\n",
              " 315992,\n",
              " 317045,\n",
              " 317957,\n",
              " 318296,\n",
              " 318908,\n",
              " 319982,\n",
              " 320078,\n",
              " 320494,\n",
              " 321111,\n",
              " 325216,\n",
              " 325287,\n",
              " 326053,\n",
              " 326134,\n",
              " 326729,\n",
              " 327344,\n",
              " 328317,\n",
              " 328352,\n",
              " 328602,\n",
              " 329682,\n",
              " 332906,\n",
              " 333695,\n",
              " 334176,\n",
              " 334846,\n",
              " 336649,\n",
              " 337288,\n",
              " 338085,\n",
              " 338368,\n",
              " 341901,\n",
              " 343554,\n",
              " 344439,\n",
              " 348085,\n",
              " 348805,\n",
              " 350058,\n",
              " 350281,\n",
              " 350752,\n",
              " 350867,\n",
              " 351524,\n",
              " 356471,\n",
              " 356861,\n",
              " 361396,\n",
              " 361990,\n",
              " 362004,\n",
              " 363091,\n",
              " 363191,\n",
              " 364132,\n",
              " 370064,\n",
              " 374837,\n",
              " 376268,\n",
              " 376478,\n",
              " 376986,\n",
              " 379908,\n",
              " 379921,\n",
              " 380846,\n",
              " 383448,\n",
              " 384014,\n",
              " 386171,\n",
              " 386260,\n",
              " 388119,\n",
              " 389864,\n",
              " 391812,\n",
              " 393004,\n",
              " 394185,\n",
              " 394871,\n",
              " 395451,\n",
              " 398416]"
            ]
          },
          "metadata": {},
          "execution_count": 67
        }
      ],
      "source": [
        "# list of invalid questions\n",
        "invalid_questions"
      ]
    },
    {
      "cell_type": "code",
      "execution_count": null,
      "metadata": {
        "_cell_guid": "fa18ae1e-af6d-5cfd-4ca3-eafca2ca5a61",
        "id": "WyxWo7TyyJ7k"
      },
      "outputs": [],
      "source": [
        "# Remove the invalid questions\n",
        "for index in invalid_questions:\n",
        "    df = df[df.id != index]\n",
        "    questions1.pop(index)\n",
        "    questions2.pop(index)\n",
        "\n",
        "# These questions are also unusable, but were not detected initially.\n",
        "# They were found when the function 'cosine_sim' stopped due to an error.\n",
        "unexpected_invalid_questions = [36460]#,42273,65937,304867,306828,353918]\n",
        "for index in unexpected_invalid_questions:\n",
        "    df = df[df.id != index]\n",
        "    questions1.pop(index)\n",
        "    questions2.pop(index)"
      ]
    },
    {
      "cell_type": "code",
      "execution_count": null,
      "metadata": {
        "_cell_guid": "6702338b-04e5-c512-1186-d62a19c74715",
        "id": "5C66steGyJ7k"
      },
      "outputs": [],
      "source": [
        "# Use TfidfVectorizer() to transform the questions into vectors,\n",
        "# then compute their cosine similarity.\n",
        "vectorizer = TfidfVectorizer()\n",
        "def cosine_sim(text1, text2):\n",
        "    tfidf = vectorizer.fit_transform([text1, text2])\n",
        "    return ((tfidf * tfidf.T).A)[0,1]"
      ]
    },
    {
      "cell_type": "code",
      "execution_count": null,
      "metadata": {
        "colab": {
          "base_uri": "https://localhost:8080/"
        },
        "id": "bD0JHhpoyJ7k",
        "outputId": "aa5bfcc9-0d4e-4578-8ccf-83ddb0f05194"
      },
      "outputs": [
        {
          "output_type": "stream",
          "name": "stdout",
          "text": [
            "399651 399651\n"
          ]
        }
      ],
      "source": [
        "print(len(questions1),len(questions2))"
      ]
    },
    {
      "cell_type": "code",
      "execution_count": null,
      "metadata": {
        "_cell_guid": "756d9766-cdca-e491-88ab-4dfaf6a3f6b3",
        "id": "v24hfpZjyJ7l"
      },
      "outputs": [],
      "source": [
        "# Tfidf_scores = []\n",
        "# for i in range(len(questions1)):\n",
        "#     score = cosine_sim(questions1[i], questions2[i])\n",
        "#     Tfidf_scores.append(score)\n",
        "#     if i % 10000 == 0:\n",
        "#         progress = i/len(questions1) * 100\n",
        "#         print(\"Similarity Scores is {}% complete.\".format(round(progress,2)))"
      ]
    },
    {
      "cell_type": "code",
      "execution_count": null,
      "metadata": {
        "colab": {
          "base_uri": "https://localhost:8080/"
        },
        "id": "wzaUF8JTyJ7l",
        "outputId": "2d28b9db-0ab9-4e47-ccb0-3859241bd467"
      },
      "outputs": [
        {
          "output_type": "stream",
          "name": "stdout",
          "text": [
            "Similarity Scores is 0.0% complete.\n",
            "Similarity Scores is 2.5% complete.\n",
            "Similarity Scores is 5.0% complete.\n",
            "Similarity Scores is 7.51% complete.\n",
            "Error at index 36459: empty vocabulary; perhaps the documents only contain stop words\n",
            "Similarity Scores is 10.01% complete.\n",
            "Error at index 42272: empty vocabulary; perhaps the documents only contain stop words\n",
            "Similarity Scores is 12.51% complete.\n",
            "Similarity Scores is 15.01% complete.\n",
            "Error at index 65937: empty vocabulary; perhaps the documents only contain stop words\n",
            "Similarity Scores is 17.52% complete.\n",
            "Similarity Scores is 20.02% complete.\n",
            "Similarity Scores is 22.52% complete.\n",
            "Similarity Scores is 25.02% complete.\n",
            "Similarity Scores is 27.52% complete.\n",
            "Similarity Scores is 30.03% complete.\n",
            "Similarity Scores is 32.53% complete.\n",
            "Similarity Scores is 35.03% complete.\n",
            "Similarity Scores is 37.53% complete.\n",
            "Similarity Scores is 40.03% complete.\n",
            "Similarity Scores is 42.54% complete.\n",
            "Similarity Scores is 45.04% complete.\n",
            "Similarity Scores is 47.54% complete.\n",
            "Similarity Scores is 50.04% complete.\n",
            "Similarity Scores is 52.55% complete.\n",
            "Similarity Scores is 55.05% complete.\n",
            "Similarity Scores is 57.55% complete.\n",
            "Similarity Scores is 60.05% complete.\n",
            "Similarity Scores is 62.55% complete.\n",
            "Similarity Scores is 65.06% complete.\n",
            "Similarity Scores is 67.56% complete.\n",
            "Similarity Scores is 70.06% complete.\n",
            "Similarity Scores is 72.56% complete.\n",
            "Similarity Scores is 75.07% complete.\n",
            "Error at index 304868: empty vocabulary; perhaps the documents only contain stop words\n",
            "Error at index 306830: empty vocabulary; perhaps the documents only contain stop words\n",
            "Similarity Scores is 77.57% complete.\n",
            "Similarity Scores is 80.07% complete.\n",
            "Similarity Scores is 82.57% complete.\n",
            "Similarity Scores is 85.07% complete.\n",
            "Similarity Scores is 87.58% complete.\n",
            "Error at index 353921: empty vocabulary; perhaps the documents only contain stop words\n",
            "Similarity Scores is 90.08% complete.\n",
            "Similarity Scores is 92.58% complete.\n",
            "Similarity Scores is 95.08% complete.\n",
            "Similarity Scores is 97.59% complete.\n"
          ]
        }
      ],
      "source": [
        "from sklearn.feature_extraction.text import TfidfVectorizer\n",
        "import pandas as pd\n",
        "import numpy as np\n",
        "\n",
        "# Create vectorizer with stop_words=None to prevent stop word removal\n",
        "vectorizer = TfidfVectorizer(stop_words=None)\n",
        "\n",
        "def cosine_sim(text1, text2):\n",
        "    # Check if both texts are non-empty\n",
        "    if not text1.strip() or not text2.strip():\n",
        "        return 0  # Return zero similarity if either text is empty\n",
        "\n",
        "    # Transform the texts to TF-IDF vectors and compute cosine similarity\n",
        "    tfidf = vectorizer.fit_transform([text1, text2])\n",
        "    return ((tfidf * tfidf.T).A)[0, 1]\n",
        "\n",
        "# Handle empty or NaN questions by replacing them with a default value (\"empty\")\n",
        "questions1 = [q if q is not None and not pd.isna(q) and q.strip() else \"empty\" for q in questions1]\n",
        "questions2 = [q if q is not None and not pd.isna(q) and q.strip() else \"empty\" for q in questions2]\n",
        "\n",
        "Tfidf_scores = []\n",
        "\n",
        "for i in range(len(questions1)):\n",
        "    try:\n",
        "        score = cosine_sim(questions1[i], questions2[i])\n",
        "        Tfidf_scores.append(score)\n",
        "    except ValueError as e:\n",
        "        print(f\"Error at index {i}: {e}\")\n",
        "        Tfidf_scores.append(0)  # Or some default value for the error case\n",
        "\n",
        "    if i % 10000 == 0:\n",
        "        progress = i / len(questions1) * 100\n",
        "        print(f\"Similarity Scores is {round(progress, 2)}% complete.\")\n"
      ]
    },
    {
      "cell_type": "code",
      "execution_count": null,
      "metadata": {
        "colab": {
          "base_uri": "https://localhost:8080/"
        },
        "id": "dM097xLayJ7l",
        "outputId": "f8d34469-be3b-4461-a85d-4fa557a9ed91"
      },
      "outputs": [
        {
          "output_type": "stream",
          "name": "stdout",
          "text": [
            "399651\n"
          ]
        }
      ],
      "source": [
        "print(len(Tfidf_scores))"
      ]
    },
    {
      "cell_type": "code",
      "execution_count": null,
      "metadata": {
        "colab": {
          "base_uri": "https://localhost:8080/"
        },
        "id": "TOkLmrM2yJ7l",
        "outputId": "31ed77b9-150d-47cc-b8ac-6d94f459f0f6"
      },
      "outputs": [
        {
          "output_type": "stream",
          "name": "stdout",
          "text": [
            "32480\n"
          ]
        }
      ],
      "source": [
        "# Check all the indices which are 0 (meaning, all the documents which contain stop words only)\n",
        "zero_Tfidf_scores = 0\n",
        "for score in Tfidf_scores:\n",
        "    if score == 0:\n",
        "        zero_Tfidf_scores += 1\n",
        "print(zero_Tfidf_scores)"
      ]
    },
    {
      "cell_type": "code",
      "execution_count": null,
      "metadata": {
        "_cell_guid": "b8ca24ce-7bad-6ddc-552e-986c35ead4e3",
        "colab": {
          "base_uri": "https://localhost:8080/",
          "height": 368
        },
        "id": "Esj5JLz6yJ7m",
        "outputId": "2e63c59f-91b4-4cf7-fdff-bdf51d54d225"
      },
      "outputs": [
        {
          "output_type": "display_data",
          "data": {
            "text/plain": [
              "<Figure size 1200x400 with 1 Axes>"
            ],
            "image/png": "[encoded data removed]"
          },
          "metadata": {}
        }
      ],
      "source": [
        "# Plot the scores\n",
        "plt.figure(figsize=(12,4))\n",
        "plt.hist(Tfidf_scores, bins = 200)\n",
        "plt.xlim(0,1)\n",
        "plt.show()"
      ]
    },
    {
      "cell_type": "code",
      "execution_count": null,
      "metadata": {
        "_cell_guid": "85fc4149-21c5-6627-d484-675dbe158632",
        "id": "Spj4jjtTyJ7m"
      },
      "outputs": [],
      "source": [
        "# Function to report the quality of the model\n",
        "def performance_report(value, score_list):\n",
        "    # the value (0-1) is the cosine similarity score to determine if a pair of questions\n",
        "    # have the same meaning or not.\n",
        "    scores = []\n",
        "    for score in score_list:\n",
        "        if score >= value:\n",
        "            scores.append(1)\n",
        "        else:\n",
        "            scores.append(0)\n",
        "\n",
        "    accuracy = accuracy_score(df.is_duplicate, scores) * 100\n",
        "    print(\"Accuracy score is {}%.\".format(round(accuracy),1))\n",
        "    print()\n",
        "    print(\"Confusion Matrix:\")\n",
        "    print(confusion_matrix(df.is_duplicate, scores))\n",
        "    print()\n",
        "    print(\"Classification Report:\")\n",
        "    print(classification_report(df.is_duplicate, scores))"
      ]
    },
    {
      "cell_type": "code",
      "execution_count": null,
      "metadata": {
        "_cell_guid": "c8ebbe6f-96ee-6ff8-b9d2-f5583672c33d",
        "colab": {
          "base_uri": "https://localhost:8080/"
        },
        "id": "fW7v07NpyJ7m",
        "outputId": "673f20f0-f320-438e-aa64-a85377fe6a72"
      },
      "outputs": [
        {
          "output_type": "stream",
          "name": "stdout",
          "text": [
            "Accuracy score is 64%.\n",
            "\n",
            "Confusion Matrix:\n",
            "[[180324  71670]\n",
            " [ 70334  77323]]\n",
            "\n",
            "Classification Report:\n",
            "              precision    recall  f1-score   support\n",
            "\n",
            "           0       0.72      0.72      0.72    251994\n",
            "           1       0.52      0.52      0.52    147657\n",
            "\n",
            "    accuracy                           0.64    399651\n",
            "   macro avg       0.62      0.62      0.62    399651\n",
            "weighted avg       0.65      0.64      0.65    399651\n",
            "\n"
          ]
        }
      ],
      "source": [
        "performance_report(0.52, Tfidf_scores)"
      ]
    },
    {
      "cell_type": "code",
      "source": [
        "from sklearn.feature_extraction.text import TfidfVectorizer\n",
        "import joblib\n",
        "\n",
        "# Save the TfidfVectorizer model\n",
        "vectorizer_filename = 'tfidf_vectorizer.pkl'\n",
        "joblib.dump(vectorizer, vectorizer_filename)\n",
        "print(f\"Model saved as '{vectorizer_filename}'.\")\n",
        "\n",
        "# Load the TfidfVectorizer model\n",
        "loaded_vectorizer = joblib.load(vectorizer_filename)\n",
        "print(f\"Model loaded from '{vectorizer_filename}'.\")\n",
        "\n",
        "# Function to compute cosine similarity\n",
        "def cosine_sim(text1, text2, vectorizer):\n",
        "    tfidf = vectorizer.transform([text1, text2])\n",
        "    return ((tfidf * tfidf.T).A)[0, 1]\n",
        "\n",
        "# Example questions\n",
        "q1 = \"How do I train a machine learning model?\"\n",
        "q2 = \"What is the process of training a machine learning model?\"\n",
        "\n",
        "\n",
        "# Compute similarity\n",
        "similarity_score = cosine_sim(q1, q2, loaded_vectorizer)\n",
        "print(f\"Cosine Similarity between q1 and q2: {similarity_score:.4f}\")\n"
      ],
      "metadata": {
        "colab": {
          "base_uri": "https://localhost:8080/"
        },
        "id": "_iWkqgrmV1tF",
        "outputId": "b6a1f251-d19d-4df7-cc0d-7a176921df37"
      },
      "execution_count": null,
      "outputs": [
        {
          "output_type": "stream",
          "name": "stdout",
          "text": [
            "Model saved as 'tfidf_vectorizer.pkl'.\n",
            "Model loaded from 'tfidf_vectorizer.pkl'.\n",
            "Cosine Similarity between q1 and q2: 0.0000\n"
          ]
        }
      ]
    },
    {
      "cell_type": "markdown",
      "metadata": {
        "_cell_guid": "ee1ed460-137c-5e3c-9ceb-c4806bd6ad57",
        "id": "ceAv8xIHyJ7m"
      },
      "source": [
        "<!-- Using a threshold of 0.51 for the cosine similarity maximizes both the f1-score and accuracy. It's good to see that we are scoring better than the baseline value of 63.1% accuracy. -->\n"
      ]
    },
    {
      "cell_type": "markdown",
      "metadata": {
        "_cell_guid": "6633798e-9945-38d0-7dbd-82adf097c997",
        "id": "skYuadXSyJ7m"
      },
      "source": [
        "## Method 2: Doc2Vec"
      ]
    },
    {
      "cell_type": "code",
      "execution_count": null,
      "metadata": {
        "_cell_guid": "5ab44252-b52f-5d3b-3cd8-e1cf4d78bb12",
        "id": "rCiMZxY7yJ7n"
      },
      "outputs": [],
      "source": [
        "# Reset index to match the index values of questions1 and questions2\n",
        "df = df.reset_index()"
      ]
    },
    {
      "cell_type": "code",
      "execution_count": null,
      "metadata": {
        "_cell_guid": "21c0e29e-ccf0-86b9-33cf-4d20000b6e88",
        "id": "7nxfB2AHyJ7n"
      },
      "outputs": [],
      "source": [
        "# # Contains the processed questions for Doc2Vec\n",
        "# questions_labeled = []\n",
        "\n",
        "# for i in range(len(questions1)):\n",
        "#     # Question strings need to be separated into words\n",
        "#     # Each question needs a unique label\n",
        "#     questions_labeled.append(LabeledSentence(questions1[i].split(), df[df.index == i].qid1))\n",
        "#     questions_labeled.append(LabeledSentence(questions2[i].split(), df[df.index == i].qid2))\n",
        "#     if i % 10000 == 0:\n",
        "#         progress = i/len(questions1) * 100\n",
        "#         print(\"{}% complete\".format(round(progress, 2)))"
      ]
    },
    {
      "cell_type": "code",
      "execution_count": null,
      "metadata": {
        "colab": {
          "base_uri": "https://localhost:8080/"
        },
        "id": "eoOQB-80yJ7n",
        "outputId": "8effcb8c-64bc-49ae-d91a-5af0ce8adc33"
      },
      "outputs": [
        {
          "output_type": "stream",
          "name": "stdout",
          "text": [
            "0.0% complete\n",
            "2.5% complete\n",
            "5.0% complete\n",
            "7.51% complete\n",
            "10.01% complete\n",
            "12.51% complete\n",
            "15.01% complete\n",
            "17.52% complete\n",
            "20.02% complete\n",
            "22.52% complete\n",
            "25.02% complete\n",
            "27.52% complete\n",
            "30.03% complete\n",
            "32.53% complete\n",
            "35.03% complete\n",
            "37.53% complete\n",
            "40.03% complete\n",
            "42.54% complete\n",
            "45.04% complete\n",
            "47.54% complete\n",
            "50.04% complete\n",
            "52.55% complete\n",
            "55.05% complete\n",
            "57.55% complete\n",
            "60.05% complete\n",
            "62.55% complete\n",
            "65.06% complete\n",
            "67.56% complete\n",
            "70.06% complete\n",
            "72.56% complete\n",
            "75.07% complete\n",
            "77.57% complete\n",
            "80.07% complete\n",
            "82.57% complete\n",
            "85.07% complete\n",
            "87.58% complete\n",
            "90.08% complete\n",
            "92.58% complete\n",
            "95.08% complete\n",
            "97.59% complete\n"
          ]
        }
      ],
      "source": [
        "# Contains the processed questions for Doc2Vec\n",
        "questions_labeled = []\n",
        "\n",
        "for i in range(len(questions1)):\n",
        "    # Question strings need to be separated into words\n",
        "    # Each question needs a unique label\n",
        "    questions_labeled.append(TaggedDocument(questions1[i].split(), df[df.index == i].qid1))\n",
        "    questions_labeled.append(TaggedDocument(questions2[i].split(), df[df.index == i].qid2))\n",
        "    if i % 10000 == 0:\n",
        "        progress = i/len(questions1) * 100\n",
        "        print(\"{}% complete\".format(round(progress, 2)))"
      ]
    },
    {
      "cell_type": "code",
      "execution_count": null,
      "metadata": {
        "_cell_guid": "55bf95d8-fb0c-0646-3f22-65f2b0715a59",
        "id": "k3j5LeUPyJ7n"
      },
      "outputs": [],
      "source": [
        "# Split questions for computing similarity and determining the lengths of the questions.\n",
        "questions1_split = []\n",
        "for question in questions1:\n",
        "    questions1_split.append(question.split())\n",
        "\n",
        "questions2_split = []\n",
        "for question in questions2:\n",
        "    questions2_split.append(question.split())"
      ]
    },
    {
      "cell_type": "code",
      "execution_count": null,
      "metadata": {
        "_cell_guid": "c7eab291-dce2-a1b0-6934-38e3333eb0b6",
        "id": "KD70C8-EyJ7n"
      },
      "outputs": [],
      "source": [
        "# Determine the length of questions to select more optimal parameters.\n",
        "lengths = []\n",
        "for i in range(len(questions1_split)):\n",
        "    lengths.append(len(questions1_split[i]))\n",
        "    lengths.append(len(questions2_split[i]))\n",
        "lengths = pd.DataFrame(lengths, columns=[\"count\"])"
      ]
    },
    {
      "cell_type": "code",
      "execution_count": null,
      "metadata": {
        "_cell_guid": "22a38b79-1a80-f5e6-4e0e-987e07aefd94",
        "colab": {
          "base_uri": "https://localhost:8080/",
          "height": 335
        },
        "id": "x5nr7JYuyJ7n",
        "outputId": "5f6cbd13-e733-4267-b5a2-9c6e60dd38ca"
      },
      "outputs": [
        {
          "output_type": "execute_result",
          "data": {
            "text/plain": [
              "count    799302.000000\n",
              "mean          5.818323\n",
              "std           3.366819\n",
              "min           1.000000\n",
              "25%           4.000000\n",
              "50%           5.000000\n",
              "75%           7.000000\n",
              "max         106.000000\n",
              "Name: count, dtype: float64"
            ],
            "text/html": [
              "<div>\n",
              "<style scoped>\n",
              "    .dataframe tbody tr th:only-of-type {\n",
              "        vertical-align: middle;\n",
              "    }\n",
              "\n",
              "    .dataframe tbody tr th {\n",
              "        vertical-align: top;\n",
              "    }\n",
              "\n",
              "    .dataframe thead th {\n",
              "        text-align: right;\n",
              "    }\n",
              "</style>\n",
              "<table border=\"1\" class=\"dataframe\">\n",
              "  <thead>\n",
              "    <tr style=\"text-align: right;\">\n",
              "      <th></th>\n",
              "      <th>count</th>\n",
              "    </tr>\n",
              "  </thead>\n",
              "  <tbody>\n",
              "    <tr>\n",
              "      <th>count</th>\n",
              "      <td>799302.000000</td>\n",
              "    </tr>\n",
              "    <tr>\n",
              "      <th>mean</th>\n",
              "      <td>5.818323</td>\n",
              "    </tr>\n",
              "    <tr>\n",
              "      <th>std</th>\n",
              "      <td>3.366819</td>\n",
              "    </tr>\n",
              "    <tr>\n",
              "      <th>min</th>\n",
              "      <td>1.000000</td>\n",
              "    </tr>\n",
              "    <tr>\n",
              "      <th>25%</th>\n",
              "      <td>4.000000</td>\n",
              "    </tr>\n",
              "    <tr>\n",
              "      <th>50%</th>\n",
              "      <td>5.000000</td>\n",
              "    </tr>\n",
              "    <tr>\n",
              "      <th>75%</th>\n",
              "      <td>7.000000</td>\n",
              "    </tr>\n",
              "    <tr>\n",
              "      <th>max</th>\n",
              "      <td>106.000000</td>\n",
              "    </tr>\n",
              "  </tbody>\n",
              "</table>\n",
              "</div><br><label><b>dtype:</b> float64</label>"
            ]
          },
          "metadata": {},
          "execution_count": 84
        }
      ],
      "source": [
        "lengths['count'].describe()"
      ]
    },
    {
      "cell_type": "code",
      "execution_count": null,
      "metadata": {
        "_cell_guid": "42fd0045-7b6c-cb63-d5f3-fd6b8ac93805",
        "colab": {
          "base_uri": "https://localhost:8080/"
        },
        "id": "c8G_-Xu0yJ7o",
        "outputId": "dc7af4d2-e743-44c5-ff8c-484ee9225c7c"
      },
      "outputs": [
        {
          "output_type": "execute_result",
          "data": {
            "text/plain": [
              "17.0"
            ]
          },
          "metadata": {},
          "execution_count": 85
        }
      ],
      "source": [
        "# 99% of the questions include 18 or fewer words.\n",
        "np.percentile(lengths['count'], 99)"
      ]
    },
    {
      "cell_type": "code",
      "execution_count": null,
      "metadata": {
        "_cell_guid": "a854f9a1-967c-d8a2-0943-3616c90cde07",
        "id": "SiL2t7enyJ7o"
      },
      "outputs": [],
      "source": [
        "# Build the model\n",
        "model = Doc2Vec(dm = 1, min_count=1, window=10, vector_size=150, sample=1e-4, negative=10)\n",
        "model.build_vocab(questions_labeled)"
      ]
    },
    {
      "cell_type": "code",
      "execution_count": null,
      "metadata": {
        "_cell_guid": "59ed1462-7671-dac5-6cbb-aa4007b28061",
        "colab": {
          "base_uri": "https://localhost:8080/"
        },
        "id": "9k7bHvwGyJ7t",
        "outputId": "6a046a58-cfd7-4119-ee0c-59eb0043aa1f"
      },
      "outputs": [
        {
          "output_type": "stream",
          "name": "stderr",
          "text": [
            "WARNING:gensim.models.word2vec:Effective 'alpha' higher than previous training cycles\n"
          ]
        },
        {
          "output_type": "stream",
          "name": "stdout",
          "text": [
            "Epoch #1 is complete.\n"
          ]
        },
        {
          "output_type": "stream",
          "name": "stderr",
          "text": [
            "WARNING:gensim.models.word2vec:Effective 'alpha' higher than previous training cycles\n"
          ]
        },
        {
          "output_type": "stream",
          "name": "stdout",
          "text": [
            "Epoch #2 is complete.\n"
          ]
        },
        {
          "output_type": "stream",
          "name": "stderr",
          "text": [
            "WARNING:gensim.models.word2vec:Effective 'alpha' higher than previous training cycles\n"
          ]
        },
        {
          "output_type": "stream",
          "name": "stdout",
          "text": [
            "Epoch #3 is complete.\n"
          ]
        },
        {
          "output_type": "stream",
          "name": "stderr",
          "text": [
            "WARNING:gensim.models.word2vec:Effective 'alpha' higher than previous training cycles\n"
          ]
        },
        {
          "output_type": "stream",
          "name": "stdout",
          "text": [
            "Epoch #4 is complete.\n",
            "Epoch #5 is complete.\n"
          ]
        }
      ],
      "source": [
        "# Train the model\n",
        "# Train the model for 5 epochs\n",
        "for epoch in range(5):\n",
        "    model.train(questions_labeled, total_examples=model.corpus_count, epochs = model.epochs)\n",
        "    print(f\"Epoch #{epoch + 1} is complete.\")\n"
      ]
    },
    {
      "cell_type": "code",
      "source": [
        "# Save the model to disk\n",
        "model_filename = 'doc2vec_model'\n",
        "model.save(model_filename)\n",
        "print(f'Model saved as {model_filename}')"
      ],
      "metadata": {
        "colab": {
          "base_uri": "https://localhost:8080/"
        },
        "id": "fPps7gC_RQMd",
        "outputId": "5ccddee4-7d20-40bb-cfa9-a70ad08ee6bb"
      },
      "execution_count": null,
      "outputs": [
        {
          "output_type": "stream",
          "name": "stdout",
          "text": [
            "Model saved as doc2vec_model\n"
          ]
        }
      ]
    },
    {
      "cell_type": "code",
      "source": [
        "# from gensim.models import Doc2Vec\n",
        "# from scipy.spatial.distance import cosine\n",
        "\n",
        "# # Load the saved model\n",
        "# model_filename = 'doc2vec_model'\n",
        "# loaded_model = Doc2Vec.load(model_filename)\n",
        "# print(f'Model loaded from {model_filename}')\n",
        "\n",
        "# # Example questions\n",
        "# q1 = \"How do I train a machine learning model?\"\n",
        "# q2 = \"What is the process of training a machine learning model?\"\n",
        "\n",
        "# # Convert the questions to vectors using the loaded model\n",
        "# q1_vector = loaded_model.infer_vector(q1.split())\n",
        "# q2_vector = loaded_model.infer_vector(q2.split())\n",
        "\n",
        "# # Compute cosine similarity between the two vectors\n",
        "# similarity = 1 - cosine(q1_vector, q2_vector)\n",
        "\n",
        "# # Print the similarity score\n",
        "# print(f\"Cosine Similarity between q1 and q2: {similarity:.4f}\")\n"
      ],
      "metadata": {
        "colab": {
          "base_uri": "https://localhost:8080/"
        },
        "id": "5T_MZzA_RTof",
        "outputId": "c835477f-0a54-4f5c-8493-c70f693a2c21"
      },
      "execution_count": null,
      "outputs": [
        {
          "output_type": "stream",
          "name": "stdout",
          "text": [
            "Model loaded from doc2vec_model\n",
            "Cosine Similarity between q1 and q2: 0.3433\n"
          ]
        }
      ]
    },
    {
      "cell_type": "code",
      "execution_count": null,
      "metadata": {
        "id": "Jpjea3DWyJ7t"
      },
      "outputs": [],
      "source": []
    },
    {
      "cell_type": "code",
      "execution_count": null,
      "metadata": {
        "colab": {
          "base_uri": "https://localhost:8080/"
        },
        "id": "yJ4yLj3DyJ7u",
        "outputId": "ae71e2bd-df9a-4a6b-94a0-0aa4aa763572"
      },
      "outputs": [
        {
          "output_type": "stream",
          "name": "stdout",
          "text": [
            "['best', 'get', \"'s\", 'india', 'like', 'use', 'peopl', 'good', 'way', 'differ', 'would', 'make', 'one', 'quora', 'learn', 'time', 'life', 'work', 'year', 'know', 'money', 'what', 'thing', 'question', 'think', 'mean', 'indian', 'go', 'start', 'new', 'much', 'someon', 'engin', 'book', 'mani', 'becom', 'day', 'find', 'want', 'job', 'trump', 'movi', 'happen', 'ever', 'without', 'world', 'feel', 'onlin', 'first', 'better', 'person', 'girl', 'take', 'note', 'love', 'compani', 'it', 'english', 'whi', 'need', 'univers', '2', 'us', 'account', 'possibl', 'improv', 'buy', 'phone', 'program', 'could', '2016', 'prepar', '1', 'number', 'countri', 'ask', 'compar', 'live', 'chang', '500', 'languag', '1000', 'student', 'friend', 'studi', 'weight', 'realli', 'do', 'app', 'googl', 'donald', 'lose', 'answer', 'stop', 'busi', '3', 'long', 'old', 'websit', 'develop']\n"
          ]
        }
      ],
      "source": [
        "# print(model.dv.index_to_key[:10])  # Check the first 10 words in the vocabulary\n",
        "# print(model.dv.index_to_key[:20])  # Displays the top 20 document IDs\n",
        "print(model.wv.index_to_key[:100])"
      ]
    },
    {
      "cell_type": "code",
      "execution_count": null,
      "metadata": {
        "_cell_guid": "98a7e6d0-515f-aa3b-8e8b-0820ae010332",
        "colab": {
          "base_uri": "https://localhost:8080/"
        },
        "id": "lbCONdBZyJ7u",
        "outputId": "b7ab3665-793a-4b2e-9ad0-03863502131c"
      },
      "outputs": [
        {
          "output_type": "execute_result",
          "data": {
            "text/plain": [
              "[('graduat', 0.7753690481185913),\n",
              " ('get', 0.7741609215736389),\n",
              " ('student', 0.7717996835708618),\n",
              " ('offer', 0.7622742056846619),\n",
              " ('degre', 0.7601736783981323),\n",
              " ('visa', 0.7578496336936951),\n",
              " ('studi', 0.7528149485588074),\n",
              " ('join', 0.7363245487213135),\n",
              " ('work', 0.7351437211036682),\n",
              " ('job', 0.7349839210510254)]"
            ]
          },
          "metadata": {},
          "execution_count": 91
        }
      ],
      "source": [
        "# Check a few terms to ensure the model was trained properly.\n",
        "model.wv.most_similar('appli')"
      ]
    },
    {
      "cell_type": "code",
      "execution_count": null,
      "metadata": {
        "_cell_guid": "58c1bf60-7a43-dd3d-12a6-52b3260a398a",
        "colab": {
          "base_uri": "https://localhost:8080/"
        },
        "id": "cZvAQyuAyJ7u",
        "outputId": "5d5d89b0-ee4c-41b1-c059-89ecd8d84324"
      },
      "outputs": [
        {
          "output_type": "execute_result",
          "data": {
            "text/plain": [
              "[('person', 0.9011774659156799),\n",
              " ('other', 0.8851295113563538),\n",
              " ('them', 0.8720452785491943),\n",
              " ('someon', 0.8701930642127991),\n",
              " ('even', 0.8651589751243591),\n",
              " ('like', 0.8582855463027954),\n",
              " ('think', 0.8556405901908875),\n",
              " ('realli', 0.8540045619010925),\n",
              " ('whi', 0.8493725657463074),\n",
              " ('one', 0.8478968143463135)]"
            ]
          },
          "metadata": {},
          "execution_count": 92
        }
      ],
      "source": [
        "model.wv.most_similar('peopl')"
      ]
    },
    {
      "cell_type": "code",
      "execution_count": null,
      "metadata": {
        "_cell_guid": "661535d4-dcbd-5a35-c952-ddd6576f2e36",
        "colab": {
          "base_uri": "https://localhost:8080/"
        },
        "id": "jsvkydkPyJ7u",
        "outputId": "7e64d118-4c7a-43e0-d2a3-c278a228a479"
      },
      "outputs": [
        {
          "output_type": "execute_result",
          "data": {
            "text/plain": [
              "[('read', 0.813001275062561),\n",
              " ('learn', 0.7585887908935547),\n",
              " ('write', 0.753396213054657),\n",
              " ('good', 0.7332706451416016),\n",
              " ('onlin', 0.7270148992538452),\n",
              " ('one', 0.722239077091217),\n",
              " ('best', 0.7198824882507324),\n",
              " ('program', 0.7161550521850586),\n",
              " ('find', 0.7128171324729919),\n",
              " ('physic', 0.7055271863937378)]"
            ]
          },
          "metadata": {},
          "execution_count": 93
        }
      ],
      "source": [
        "model.wv.most_similar('book')"
      ]
    },
    {
      "cell_type": "code",
      "execution_count": null,
      "metadata": {
        "_cell_guid": "f96f6331-39f3-1ec8-6db4-a948c5aaa514",
        "id": "A26V01QtyJ7v"
      },
      "outputs": [],
      "source": [
        "# doc2vec_scores = []\n",
        "# for i in range(len(questions1_split)):\n",
        "#     # n_similarity computes the cosine similarity in Doc2Vec\n",
        "#     score = model.n_similarity(questions1_split[i],questions2_split[i])\n",
        "#     doc2vec_scores.append(score)\n",
        "#     if i % 10000 == 0:\n",
        "#         progress = i/len(questions1_split) * 100\n",
        "#         print(\"{}% complete.\".format(round(progress,2)))"
      ]
    },
    {
      "cell_type": "code",
      "execution_count": null,
      "metadata": {
        "colab": {
          "base_uri": "https://localhost:8080/"
        },
        "id": "UwI_G8nxyJ7v",
        "outputId": "6c4d9cc3-7c7f-4b0c-953e-2de46cfb2032"
      },
      "outputs": [
        {
          "output_type": "stream",
          "name": "stdout",
          "text": [
            "0.0% complete.\n",
            "2.5% complete.\n",
            "5.0% complete.\n",
            "7.51% complete.\n",
            "10.01% complete.\n",
            "12.51% complete.\n",
            "15.01% complete.\n",
            "17.52% complete.\n",
            "20.02% complete.\n",
            "22.52% complete.\n",
            "25.02% complete.\n",
            "27.52% complete.\n",
            "30.03% complete.\n",
            "32.53% complete.\n",
            "35.03% complete.\n",
            "37.53% complete.\n",
            "40.03% complete.\n",
            "42.54% complete.\n",
            "45.04% complete.\n",
            "47.54% complete.\n",
            "50.04% complete.\n",
            "52.55% complete.\n",
            "55.05% complete.\n",
            "57.55% complete.\n",
            "60.05% complete.\n",
            "62.55% complete.\n",
            "65.06% complete.\n",
            "67.56% complete.\n",
            "70.06% complete.\n",
            "72.56% complete.\n",
            "75.07% complete.\n",
            "77.57% complete.\n",
            "80.07% complete.\n",
            "82.57% complete.\n",
            "85.07% complete.\n",
            "87.58% complete.\n",
            "90.08% complete.\n",
            "92.58% complete.\n",
            "95.08% complete.\n",
            "97.59% complete.\n"
          ]
        }
      ],
      "source": [
        "# from scipy.spatial.distance import cosine\n",
        "\n",
        "doc2vec_scores = []\n",
        "for i in range(len(questions1_split)):\n",
        "    # Use infer_vector() to compute the vector for each split sentence (list of words)\n",
        "    vector1 = model.infer_vector(questions1_split[i])  # For the first question\n",
        "    vector2 = model.infer_vector(questions2_split[i])  # For the second question\n",
        "\n",
        "    # Compute cosine similarity between the two vectors\n",
        "    score = 1 - cosine(vector1, vector2)  # Cosine similarity = 1 - cosine distance\n",
        "    doc2vec_scores.append(score)\n",
        "\n",
        "    if i % 10000 == 0:\n",
        "        progress = i / len(questions1_split) * 100\n",
        "        print(\"{}% complete.\".format(round(progress, 2)))\n"
      ]
    },
    {
      "cell_type": "code",
      "execution_count": null,
      "metadata": {
        "_cell_guid": "c0085f3c-9682-334b-afae-eee818dd898f",
        "id": "_QJs7NAqyJ7v",
        "colab": {
          "base_uri": "https://localhost:8080/",
          "height": 368
        },
        "outputId": "6620292f-7b16-4a92-bfbe-135a4fe0f5f9"
      },
      "outputs": [
        {
          "output_type": "display_data",
          "data": {
            "text/plain": [
              "<Figure size 1200x400 with 1 Axes>"
            ],
            "image/png": "[encoded data removed]"
          },
          "metadata": {}
        }
      ],
      "source": [
        "# Plot the scores\n",
        "plt.figure(figsize=(12,4))\n",
        "plt.hist(doc2vec_scores, bins = 200)\n",
        "plt.xlim(0,1)\n",
        "plt.show()"
      ]
    },
    {
      "cell_type": "code",
      "execution_count": null,
      "metadata": {
        "id": "YQwelHZ0yJ7v",
        "colab": {
          "base_uri": "https://localhost:8080/",
          "height": 576
        },
        "outputId": "ed98d5c4-969c-4d38-ce01-e81d0e881ff4"
      },
      "outputs": [
        {
          "output_type": "display_data",
          "data": {
            "text/plain": [
              "<Figure size 1200x600 with 1 Axes>"
            ],
            "image/png": "[encoded data removed]"
          },
          "metadata": {}
        }
      ],
      "source": [
        "import seaborn as sns\n",
        "import matplotlib.pyplot as plt\n",
        "\n",
        "# Set the Seaborn style\n",
        "sns.set(style=\"whitegrid\")\n",
        "\n",
        "# Create the plot\n",
        "plt.figure(figsize=(12,6))\n",
        "\n",
        "# Plot with Seaborn's histplot\n",
        "sns.histplot(doc2vec_scores, bins=30, kde=True, color=\"skyblue\", edgecolor=\"black\")\n",
        "\n",
        "# Set the title and labels\n",
        "plt.title(\"Distribution of Doc2Vec Similarity Scores\", fontsize=16)\n",
        "plt.xlabel(\"Cosine Similarity\", fontsize=14)\n",
        "plt.ylabel(\"Frequency\", fontsize=14)\n",
        "\n",
        "# Set xlim for better clarity (0 to 1, as similarity scores are between 0 and 1)\n",
        "plt.xlim(0, 1)\n",
        "\n",
        "# Display the plot\n",
        "plt.show()\n"
      ]
    },
    {
      "cell_type": "markdown",
      "metadata": {
        "_cell_guid": "174deafd-6537-5da7-e576-b0ffc09d6406",
        "id": "N1mYzPq3yJ7v"
      },
      "source": [
        "It's interesting to see how Doc2Vec computes the pairs of questions to be more similar than TfidfVectorizer."
      ]
    },
    {
      "cell_type": "code",
      "execution_count": null,
      "metadata": {
        "_cell_guid": "ef053598-9d46-f2de-3699-37efc3c13e56",
        "id": "ZnXGXHhmyJ7w",
        "colab": {
          "base_uri": "https://localhost:8080/"
        },
        "outputId": "0283a43b-8f28-40e6-ba75-6e46b5fa4898"
      },
      "outputs": [
        {
          "output_type": "stream",
          "name": "stdout",
          "text": [
            "Accuracy score is 64%.\n",
            "\n",
            "Confusion Matrix:\n",
            "[[245452   6542]\n",
            " [139227   8430]]\n",
            "\n",
            "Classification Report:\n",
            "              precision    recall  f1-score   support\n",
            "\n",
            "           0       0.64      0.97      0.77    251994\n",
            "           1       0.56      0.06      0.10    147657\n",
            "\n",
            "    accuracy                           0.64    399651\n",
            "   macro avg       0.60      0.52      0.44    399651\n",
            "weighted avg       0.61      0.64      0.52    399651\n",
            "\n"
          ]
        }
      ],
      "source": [
        "performance_report(0.92, doc2vec_scores)"
      ]
    },
    {
      "cell_type": "markdown",
      "source": [
        "TF_IDF OUTPUT"
      ],
      "metadata": {
        "id": "8ccQmR8vxmkq"
      }
    },
    {
      "cell_type": "code",
      "source": [
        "from google.colab import drive\n",
        "drive.mount('/content/drive')\n",
        "file_path = '/content/drive/My Drive/questions.csv'"
      ],
      "metadata": {
        "colab": {
          "base_uri": "https://localhost:8080/"
        },
        "id": "PS_oYO-XS5Hz",
        "outputId": "f6e29e12-956d-4675-aa9f-853b5a2c40ec"
      },
      "execution_count": null,
      "outputs": [
        {
          "output_type": "stream",
          "name": "stdout",
          "text": [
            "Mounted at /content/drive\n"
          ]
        }
      ]
    },
    {
      "cell_type": "code",
      "execution_count": null,
      "metadata": {
        "_cell_guid": "a3c872d9-df0d-00e4-8a8b-655c51b11717",
        "id": "UaZLLcqcyJ7w",
        "colab": {
          "base_uri": "https://localhost:8080/"
        },
        "outputId": "a9d8c86a-19ce-4d30-beec-b6d987c87cd7"
      },
      "outputs": [
        {
          "output_type": "stream",
          "name": "stdout",
          "text": [
            "Vectorizer loaded from '/content/drive/My Drive/Colab_Notebooks/Models/similarity_models/tfidf_vectorizer.pkl'.\n",
            "Similarity score between q1 and q2: 0.0000\n"
          ]
        }
      ],
      "source": [
        "\n",
        "import joblib\n",
        "import numpy as np\n",
        "from sklearn.metrics.pairwise import cosine_similarity\n",
        "import os\n",
        "\n",
        "# Directory to load the vectorizer from\n",
        "vectorizer_dir = '/content/drive/My Drive/Colab_Notebooks/Models/similarity_models/'\n",
        "\n",
        "# Define the vectorizer filename\n",
        "vectorizer_filename = os.path.join(vectorizer_dir, 'tfidf_vectorizer.pkl')\n",
        "\n",
        "# Load the saved TfidfVectorizer\n",
        "loaded_vectorizer = joblib.load(vectorizer_filename)\n",
        "print(f\"Vectorizer loaded from '{vectorizer_filename}'.\")\n",
        "\n",
        "# Function to compute cosine similarity between two questions\n",
        "def get_similarity(q1, q2, vectorizer):\n",
        "    # Transform the questions into TF-IDF vectors using the loaded vectorizer\n",
        "    tfidf_matrix = vectorizer.transform([q1, q2])\n",
        "\n",
        "    # Compute cosine similarity between the two questions\n",
        "    similarity = cosine_similarity(tfidf_matrix[0:1], tfidf_matrix[1:2])[0][0]\n",
        "    return similarity\n",
        "\n",
        "# Example questions\n",
        "q1 = \"How do I read and find my YouTube comments?\"\n",
        "q2 = \"How can I see all my Youtube comments?\"\n",
        "\n",
        "# Get similarity between the two questions\n",
        "similarity_score = get_similarity(q1, q2, loaded_vectorizer)\n",
        "print(f\"Similarity score between q1 and q2: {similarity_score:.4f}\")\n",
        "\n"
      ]
    },
    {
      "cell_type": "code",
      "source": [
        "q1 = \"Astrology: I am a Capricorn Sun Cap moon and cap rising...what does that say about me?\"\n",
        "q2 = \"I'm a triple Capricorn (Sun, Moon and ascendant in Capricorn) What does this say about me?\"\n",
        "\n",
        "'''\n",
        "q1 = 'How do I read and find my YouTube comments?'\n",
        "q2 = 'How can I see all my Youtube comments?'\n",
        "\n",
        "q1 = 'Why do girls want to be friends with the guy they reject?'\n",
        "q2 = 'How do guys feel after rejecting a girl?'\n",
        "'''\n"
      ],
      "metadata": {
        "colab": {
          "base_uri": "https://localhost:8080/",
          "height": 53
        },
        "id": "dZ8Pp-cucBLE",
        "outputId": "f5245b78-b800-4805-8086-3997b308c886"
      },
      "execution_count": null,
      "outputs": [
        {
          "output_type": "execute_result",
          "data": {
            "text/plain": [
              "\"\\nq1 = 'How do I read and find my YouTube comments?'\\nq2 = 'How can I see all my Youtube comments?'\\n\\nq1 = 'Why do girls want to be friends with the guy they reject?'\\nq2 = 'How do guys feel after rejecting a girl?'\\n\""
            ],
            "application/vnd.google.colaboratory.intrinsic+json": {
              "type": "string"
            }
          },
          "metadata": {},
          "execution_count": 4
        }
      ]
    },
    {
      "cell_type": "markdown",
      "source": [
        "DOC2_VEC OUTPUT"
      ],
      "metadata": {
        "id": "xcou_HgTxpdG"
      }
    },
    {
      "cell_type": "code",
      "source": [
        "from gensim.models import Doc2Vec\n",
        "from scipy.spatial.distance import cosine\n",
        "import os\n",
        "\n",
        "# Directory to load the model from\n",
        "model_dir = '/content/drive/My Drive/Colab_Notebooks/Models/similarity_models/'\n",
        "\n",
        "# Define the model filename\n",
        "model_filename = os.path.join(model_dir, 'doc2vec_model')\n",
        "\n",
        "# Load the saved Doc2Vec model\n",
        "loaded_model = Doc2Vec.load(model_filename)\n",
        "print(f\"Model loaded from '{model_filename}'.\")\n",
        "\n",
        "# Example: Use the model to infer vector similarity for two example questions\n",
        "def get_similarity(q1, q2, model):\n",
        "    # Preprocess and infer vectors for the two questions (you can use lemmatization here)\n",
        "    vector_q1 = model.infer_vector(q1.split())  # Tokenize the question and infer the vector\n",
        "    vector_q2 = model.infer_vector(q2.split())  # Tokenize the question and infer the vector\n",
        "\n",
        "    # Compute cosine similarity between the two vectors\n",
        "    similarity = 1 - cosine(vector_q1, vector_q2)  # Cosine similarity is 1 - cosine distance\n",
        "    return similarity\n",
        "\n",
        "# Example questions\n",
        "# q1 = \"How do I read and find my YouTube comments?\"\n",
        "# q2 = \"How can I see all my Youtube comments?\"\n",
        "\n",
        "# q1 = 'Why do girls want to be friends with the guy they reject?'\n",
        "# q2 = 'How do guys feel after rejecting a girl?'\n",
        "\n",
        "q1 = \"Astrology: I am a Capricorn Sun Cap moon and cap rising...what does that say about me?\"\n",
        "q2 = \"I'm a triple Capricorn (Sun, Moon and ascendant in Capricorn) What does this say about me?\"\n",
        "\n",
        "# Get similarity between the two questions\n",
        "similarity_score = get_similarity(q1, q2, loaded_model)\n",
        "print(f\"Similarity score between q1 and q2: {similarity_score:.4f}\")\n"
      ],
      "metadata": {
        "colab": {
          "base_uri": "https://localhost:8080/"
        },
        "id": "xBWE09Z0cA3F",
        "outputId": "2503d914-6e8a-4552-cb50-e2059916f304"
      },
      "execution_count": null,
      "outputs": [
        {
          "output_type": "stream",
          "name": "stdout",
          "text": [
            "Model loaded from '/content/drive/My Drive/Colab_Notebooks/Models/similarity_models/doc2vec_model'.\n",
            "Similarity score between q1 and q2: 0.5111\n"
          ]
        }
      ]
    },
    {
      "cell_type": "code",
      "source": [],
      "metadata": {
        "id": "AgalAJ4YuQzw"
      },
      "execution_count": null,
      "outputs": []
    }
  ],
  "metadata": {
    "_change_revision": 2,
    "_is_fork": false,
    "kernelspec": {
      "display_name": "Python 3",
      "name": "python3"
    },
    "language_info": {
      "codemirror_mode": {
        "name": "ipython",
        "version": 3
      },
      "file_extension": ".py",
      "mimetype": "text/x-python",
      "name": "python",
      "nbconvert_exporter": "python",
      "pygments_lexer": "ipython3",
      "version": "3.12.7"
    },
    "colab": {
      "provenance": []
    }
  },
  "nbformat": 4,
  "nbformat_minor": 0
}